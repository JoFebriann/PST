{
  "cells": [
    {
      "cell_type": "markdown",
      "source": [
        "<h4>Import Libraries</h4>"
      ],
      "metadata": {
        "id": "1iamt_-eQL6J"
      }
    },
    {
      "cell_type": "code",
      "execution_count": 15,
      "metadata": {
        "id": "0KwHVdgDw2x0"
      },
      "outputs": [],
      "source": [
        "import numpy as np\n",
        "import seaborn as sns\n",
        "import pandas as pd\n",
        "import scipy.stats as stats"
      ]
    },
    {
      "cell_type": "markdown",
      "metadata": {
        "id": "UpKJBTQpw2x4"
      },
      "source": [
        "<h4> Load Data, Pre-processing </h4>"
      ]
    },
    {
      "cell_type": "code",
      "execution_count": 19,
      "metadata": {
        "id": "U_DcaG_vw2x6",
        "outputId": "5aef2aa2-6986-4c57-840f-c31d2cf71626",
        "colab": {
          "base_uri": "https://localhost:8080/",
          "height": 423
        }
      },
      "outputs": [
        {
          "output_type": "execute_result",
          "data": {
            "text/plain": [
              "           Facility             Carpark       Device  Entries  Exits  \\\n",
              "0       GraftonWest        Grafton West    GW Exit 2        0      1   \n",
              "1       GraftonWest        Grafton West    GW Exit 1        0      1   \n",
              "2       GraftonWest        Grafton West   GW Entry 1        1      0   \n",
              "3       GraftonWest        Grafton West    GW Exit 1        0      1   \n",
              "4       GraftonWest        Grafton West   GW Entry 2        1      0   \n",
              "...             ...                 ...          ...      ...    ...   \n",
              "628022   Queen Anne  Queen Anne Terrace   QAT Exit 1        0      1   \n",
              "628023   Queen Anne  Queen Anne Terrace   QAT Exit 1        0      1   \n",
              "628024   Queen Anne  Queen Anne Terrace  QAT Entry 2        1      0   \n",
              "628025   Queen Anne  Queen Anne Terrace   QAT Exit 1        0      1   \n",
              "628026   Queen Anne  Queen Anne Terrace  QAT Entry 2        1      0   \n",
              "\n",
              "       Parking Duration              Time  Unnamed: 7  \n",
              "0                   362  01/12/2018 01:04         NaN  \n",
              "1                   245  01/12/2018 01:29         NaN  \n",
              "2                     0  01/12/2018 07:21         NaN  \n",
              "3                    17  01/12/2018 07:37         NaN  \n",
              "4                     0  01/12/2018 07:44         NaN  \n",
              "...                 ...               ...         ...  \n",
              "628022              138  31/12/2018 22:43         NaN  \n",
              "628023              219  31/12/2018 22:50         NaN  \n",
              "628024                0  31/12/2018 22:50         NaN  \n",
              "628025              168  31/12/2018 23:16         NaN  \n",
              "628026                0  31/12/2018 23:46         NaN  \n",
              "\n",
              "[628027 rows x 8 columns]"
            ],
            "text/html": [
              "\n",
              "  <div id=\"df-80be5e05-1037-4285-9344-1e48bf5a585e\" class=\"colab-df-container\">\n",
              "    <div>\n",
              "<style scoped>\n",
              "    .dataframe tbody tr th:only-of-type {\n",
              "        vertical-align: middle;\n",
              "    }\n",
              "\n",
              "    .dataframe tbody tr th {\n",
              "        vertical-align: top;\n",
              "    }\n",
              "\n",
              "    .dataframe thead th {\n",
              "        text-align: right;\n",
              "    }\n",
              "</style>\n",
              "<table border=\"1\" class=\"dataframe\">\n",
              "  <thead>\n",
              "    <tr style=\"text-align: right;\">\n",
              "      <th></th>\n",
              "      <th>Facility</th>\n",
              "      <th>Carpark</th>\n",
              "      <th>Device</th>\n",
              "      <th>Entries</th>\n",
              "      <th>Exits</th>\n",
              "      <th>Parking Duration</th>\n",
              "      <th>Time</th>\n",
              "      <th>Unnamed: 7</th>\n",
              "    </tr>\n",
              "  </thead>\n",
              "  <tbody>\n",
              "    <tr>\n",
              "      <th>0</th>\n",
              "      <td>GraftonWest</td>\n",
              "      <td>Grafton West</td>\n",
              "      <td>GW Exit 2</td>\n",
              "      <td>0</td>\n",
              "      <td>1</td>\n",
              "      <td>362</td>\n",
              "      <td>01/12/2018 01:04</td>\n",
              "      <td>NaN</td>\n",
              "    </tr>\n",
              "    <tr>\n",
              "      <th>1</th>\n",
              "      <td>GraftonWest</td>\n",
              "      <td>Grafton West</td>\n",
              "      <td>GW Exit 1</td>\n",
              "      <td>0</td>\n",
              "      <td>1</td>\n",
              "      <td>245</td>\n",
              "      <td>01/12/2018 01:29</td>\n",
              "      <td>NaN</td>\n",
              "    </tr>\n",
              "    <tr>\n",
              "      <th>2</th>\n",
              "      <td>GraftonWest</td>\n",
              "      <td>Grafton West</td>\n",
              "      <td>GW Entry 1</td>\n",
              "      <td>1</td>\n",
              "      <td>0</td>\n",
              "      <td>0</td>\n",
              "      <td>01/12/2018 07:21</td>\n",
              "      <td>NaN</td>\n",
              "    </tr>\n",
              "    <tr>\n",
              "      <th>3</th>\n",
              "      <td>GraftonWest</td>\n",
              "      <td>Grafton West</td>\n",
              "      <td>GW Exit 1</td>\n",
              "      <td>0</td>\n",
              "      <td>1</td>\n",
              "      <td>17</td>\n",
              "      <td>01/12/2018 07:37</td>\n",
              "      <td>NaN</td>\n",
              "    </tr>\n",
              "    <tr>\n",
              "      <th>4</th>\n",
              "      <td>GraftonWest</td>\n",
              "      <td>Grafton West</td>\n",
              "      <td>GW Entry 2</td>\n",
              "      <td>1</td>\n",
              "      <td>0</td>\n",
              "      <td>0</td>\n",
              "      <td>01/12/2018 07:44</td>\n",
              "      <td>NaN</td>\n",
              "    </tr>\n",
              "    <tr>\n",
              "      <th>...</th>\n",
              "      <td>...</td>\n",
              "      <td>...</td>\n",
              "      <td>...</td>\n",
              "      <td>...</td>\n",
              "      <td>...</td>\n",
              "      <td>...</td>\n",
              "      <td>...</td>\n",
              "      <td>...</td>\n",
              "    </tr>\n",
              "    <tr>\n",
              "      <th>628022</th>\n",
              "      <td>Queen Anne</td>\n",
              "      <td>Queen Anne Terrace</td>\n",
              "      <td>QAT Exit 1</td>\n",
              "      <td>0</td>\n",
              "      <td>1</td>\n",
              "      <td>138</td>\n",
              "      <td>31/12/2018 22:43</td>\n",
              "      <td>NaN</td>\n",
              "    </tr>\n",
              "    <tr>\n",
              "      <th>628023</th>\n",
              "      <td>Queen Anne</td>\n",
              "      <td>Queen Anne Terrace</td>\n",
              "      <td>QAT Exit 1</td>\n",
              "      <td>0</td>\n",
              "      <td>1</td>\n",
              "      <td>219</td>\n",
              "      <td>31/12/2018 22:50</td>\n",
              "      <td>NaN</td>\n",
              "    </tr>\n",
              "    <tr>\n",
              "      <th>628024</th>\n",
              "      <td>Queen Anne</td>\n",
              "      <td>Queen Anne Terrace</td>\n",
              "      <td>QAT Entry 2</td>\n",
              "      <td>1</td>\n",
              "      <td>0</td>\n",
              "      <td>0</td>\n",
              "      <td>31/12/2018 22:50</td>\n",
              "      <td>NaN</td>\n",
              "    </tr>\n",
              "    <tr>\n",
              "      <th>628025</th>\n",
              "      <td>Queen Anne</td>\n",
              "      <td>Queen Anne Terrace</td>\n",
              "      <td>QAT Exit 1</td>\n",
              "      <td>0</td>\n",
              "      <td>1</td>\n",
              "      <td>168</td>\n",
              "      <td>31/12/2018 23:16</td>\n",
              "      <td>NaN</td>\n",
              "    </tr>\n",
              "    <tr>\n",
              "      <th>628026</th>\n",
              "      <td>Queen Anne</td>\n",
              "      <td>Queen Anne Terrace</td>\n",
              "      <td>QAT Entry 2</td>\n",
              "      <td>1</td>\n",
              "      <td>0</td>\n",
              "      <td>0</td>\n",
              "      <td>31/12/2018 23:46</td>\n",
              "      <td>NaN</td>\n",
              "    </tr>\n",
              "  </tbody>\n",
              "</table>\n",
              "<p>628027 rows × 8 columns</p>\n",
              "</div>\n",
              "    <div class=\"colab-df-buttons\">\n",
              "\n",
              "  <div class=\"colab-df-container\">\n",
              "    <button class=\"colab-df-convert\" onclick=\"convertToInteractive('df-80be5e05-1037-4285-9344-1e48bf5a585e')\"\n",
              "            title=\"Convert this dataframe to an interactive table.\"\n",
              "            style=\"display:none;\">\n",
              "\n",
              "  <svg xmlns=\"http://www.w3.org/2000/svg\" height=\"24px\" viewBox=\"0 -960 960 960\">\n",
              "    <path d=\"M120-120v-720h720v720H120Zm60-500h600v-160H180v160Zm220 220h160v-160H400v160Zm0 220h160v-160H400v160ZM180-400h160v-160H180v160Zm440 0h160v-160H620v160ZM180-180h160v-160H180v160Zm440 0h160v-160H620v160Z\"/>\n",
              "  </svg>\n",
              "    </button>\n",
              "\n",
              "  <style>\n",
              "    .colab-df-container {\n",
              "      display:flex;\n",
              "      gap: 12px;\n",
              "    }\n",
              "\n",
              "    .colab-df-convert {\n",
              "      background-color: #E8F0FE;\n",
              "      border: none;\n",
              "      border-radius: 50%;\n",
              "      cursor: pointer;\n",
              "      display: none;\n",
              "      fill: #1967D2;\n",
              "      height: 32px;\n",
              "      padding: 0 0 0 0;\n",
              "      width: 32px;\n",
              "    }\n",
              "\n",
              "    .colab-df-convert:hover {\n",
              "      background-color: #E2EBFA;\n",
              "      box-shadow: 0px 1px 2px rgba(60, 64, 67, 0.3), 0px 1px 3px 1px rgba(60, 64, 67, 0.15);\n",
              "      fill: #174EA6;\n",
              "    }\n",
              "\n",
              "    .colab-df-buttons div {\n",
              "      margin-bottom: 4px;\n",
              "    }\n",
              "\n",
              "    [theme=dark] .colab-df-convert {\n",
              "      background-color: #3B4455;\n",
              "      fill: #D2E3FC;\n",
              "    }\n",
              "\n",
              "    [theme=dark] .colab-df-convert:hover {\n",
              "      background-color: #434B5C;\n",
              "      box-shadow: 0px 1px 3px 1px rgba(0, 0, 0, 0.15);\n",
              "      filter: drop-shadow(0px 1px 2px rgba(0, 0, 0, 0.3));\n",
              "      fill: #FFFFFF;\n",
              "    }\n",
              "  </style>\n",
              "\n",
              "    <script>\n",
              "      const buttonEl =\n",
              "        document.querySelector('#df-80be5e05-1037-4285-9344-1e48bf5a585e button.colab-df-convert');\n",
              "      buttonEl.style.display =\n",
              "        google.colab.kernel.accessAllowed ? 'block' : 'none';\n",
              "\n",
              "      async function convertToInteractive(key) {\n",
              "        const element = document.querySelector('#df-80be5e05-1037-4285-9344-1e48bf5a585e');\n",
              "        const dataTable =\n",
              "          await google.colab.kernel.invokeFunction('convertToInteractive',\n",
              "                                                    [key], {});\n",
              "        if (!dataTable) return;\n",
              "\n",
              "        const docLinkHtml = 'Like what you see? Visit the ' +\n",
              "          '<a target=\"_blank\" href=https://colab.research.google.com/notebooks/data_table.ipynb>data table notebook</a>'\n",
              "          + ' to learn more about interactive tables.';\n",
              "        element.innerHTML = '';\n",
              "        dataTable['output_type'] = 'display_data';\n",
              "        await google.colab.output.renderOutput(dataTable, element);\n",
              "        const docLink = document.createElement('div');\n",
              "        docLink.innerHTML = docLinkHtml;\n",
              "        element.appendChild(docLink);\n",
              "      }\n",
              "    </script>\n",
              "  </div>\n",
              "\n",
              "\n",
              "<div id=\"df-97e29ad5-6f82-4032-8c05-e16b693d2bfa\">\n",
              "  <button class=\"colab-df-quickchart\" onclick=\"quickchart('df-97e29ad5-6f82-4032-8c05-e16b693d2bfa')\"\n",
              "            title=\"Suggest charts\"\n",
              "            style=\"display:none;\">\n",
              "\n",
              "<svg xmlns=\"http://www.w3.org/2000/svg\" height=\"24px\"viewBox=\"0 0 24 24\"\n",
              "     width=\"24px\">\n",
              "    <g>\n",
              "        <path d=\"M19 3H5c-1.1 0-2 .9-2 2v14c0 1.1.9 2 2 2h14c1.1 0 2-.9 2-2V5c0-1.1-.9-2-2-2zM9 17H7v-7h2v7zm4 0h-2V7h2v10zm4 0h-2v-4h2v4z\"/>\n",
              "    </g>\n",
              "</svg>\n",
              "  </button>\n",
              "\n",
              "<style>\n",
              "  .colab-df-quickchart {\n",
              "      --bg-color: #E8F0FE;\n",
              "      --fill-color: #1967D2;\n",
              "      --hover-bg-color: #E2EBFA;\n",
              "      --hover-fill-color: #174EA6;\n",
              "      --disabled-fill-color: #AAA;\n",
              "      --disabled-bg-color: #DDD;\n",
              "  }\n",
              "\n",
              "  [theme=dark] .colab-df-quickchart {\n",
              "      --bg-color: #3B4455;\n",
              "      --fill-color: #D2E3FC;\n",
              "      --hover-bg-color: #434B5C;\n",
              "      --hover-fill-color: #FFFFFF;\n",
              "      --disabled-bg-color: #3B4455;\n",
              "      --disabled-fill-color: #666;\n",
              "  }\n",
              "\n",
              "  .colab-df-quickchart {\n",
              "    background-color: var(--bg-color);\n",
              "    border: none;\n",
              "    border-radius: 50%;\n",
              "    cursor: pointer;\n",
              "    display: none;\n",
              "    fill: var(--fill-color);\n",
              "    height: 32px;\n",
              "    padding: 0;\n",
              "    width: 32px;\n",
              "  }\n",
              "\n",
              "  .colab-df-quickchart:hover {\n",
              "    background-color: var(--hover-bg-color);\n",
              "    box-shadow: 0 1px 2px rgba(60, 64, 67, 0.3), 0 1px 3px 1px rgba(60, 64, 67, 0.15);\n",
              "    fill: var(--button-hover-fill-color);\n",
              "  }\n",
              "\n",
              "  .colab-df-quickchart-complete:disabled,\n",
              "  .colab-df-quickchart-complete:disabled:hover {\n",
              "    background-color: var(--disabled-bg-color);\n",
              "    fill: var(--disabled-fill-color);\n",
              "    box-shadow: none;\n",
              "  }\n",
              "\n",
              "  .colab-df-spinner {\n",
              "    border: 2px solid var(--fill-color);\n",
              "    border-color: transparent;\n",
              "    border-bottom-color: var(--fill-color);\n",
              "    animation:\n",
              "      spin 1s steps(1) infinite;\n",
              "  }\n",
              "\n",
              "  @keyframes spin {\n",
              "    0% {\n",
              "      border-color: transparent;\n",
              "      border-bottom-color: var(--fill-color);\n",
              "      border-left-color: var(--fill-color);\n",
              "    }\n",
              "    20% {\n",
              "      border-color: transparent;\n",
              "      border-left-color: var(--fill-color);\n",
              "      border-top-color: var(--fill-color);\n",
              "    }\n",
              "    30% {\n",
              "      border-color: transparent;\n",
              "      border-left-color: var(--fill-color);\n",
              "      border-top-color: var(--fill-color);\n",
              "      border-right-color: var(--fill-color);\n",
              "    }\n",
              "    40% {\n",
              "      border-color: transparent;\n",
              "      border-right-color: var(--fill-color);\n",
              "      border-top-color: var(--fill-color);\n",
              "    }\n",
              "    60% {\n",
              "      border-color: transparent;\n",
              "      border-right-color: var(--fill-color);\n",
              "    }\n",
              "    80% {\n",
              "      border-color: transparent;\n",
              "      border-right-color: var(--fill-color);\n",
              "      border-bottom-color: var(--fill-color);\n",
              "    }\n",
              "    90% {\n",
              "      border-color: transparent;\n",
              "      border-bottom-color: var(--fill-color);\n",
              "    }\n",
              "  }\n",
              "</style>\n",
              "\n",
              "  <script>\n",
              "    async function quickchart(key) {\n",
              "      const quickchartButtonEl =\n",
              "        document.querySelector('#' + key + ' button');\n",
              "      quickchartButtonEl.disabled = true;  // To prevent multiple clicks.\n",
              "      quickchartButtonEl.classList.add('colab-df-spinner');\n",
              "      try {\n",
              "        const charts = await google.colab.kernel.invokeFunction(\n",
              "            'suggestCharts', [key], {});\n",
              "      } catch (error) {\n",
              "        console.error('Error during call to suggestCharts:', error);\n",
              "      }\n",
              "      quickchartButtonEl.classList.remove('colab-df-spinner');\n",
              "      quickchartButtonEl.classList.add('colab-df-quickchart-complete');\n",
              "    }\n",
              "    (() => {\n",
              "      let quickchartButtonEl =\n",
              "        document.querySelector('#df-97e29ad5-6f82-4032-8c05-e16b693d2bfa button');\n",
              "      quickchartButtonEl.style.display =\n",
              "        google.colab.kernel.accessAllowed ? 'block' : 'none';\n",
              "    })();\n",
              "  </script>\n",
              "</div>\n",
              "    </div>\n",
              "  </div>\n"
            ],
            "application/vnd.google.colaboratory.intrinsic+json": {
              "type": "dataframe",
              "variable_name": "df"
            }
          },
          "metadata": {},
          "execution_count": 19
        }
      ],
      "source": [
        "df_grafton = pd.DataFrame(pd.read_csv(\"/content/sample_data/grafton-west-december-18-march-19-10.csv\"))\n",
        "df_parkStreet = pd.DataFrame(pd.read_csv(\"/content/sample_data/park-street-october-18-march-19-4.csv\"))\n",
        "df_queenAnnes = pd.DataFrame(pd.read_csv(\"/content/sample_data/queen-annes-terrace-october-18-march-19-1.csv\"))\n",
        "\n",
        "df = pd.concat([df_grafton, df_parkStreet, df_queenAnnes], ignore_index=True)\n",
        "df"
      ]
    },
    {
      "cell_type": "code",
      "execution_count": 20,
      "metadata": {
        "id": "0HtixscOw2x7"
      },
      "outputs": [],
      "source": [
        "df['Parking Duration'] = df['Parking Duration'].str.replace(\",\", \"\").astype(int)\n",
        "\n",
        "# 1. If exits is 0 then parking duration should be 0\n",
        "condition = (df['Exits'] == 0) & (df['Parking Duration'] > 0)\n",
        "df_error = df[condition]\n",
        "df.loc[condition, 'Parking Duration'] = 0 #35,181 row affected\n",
        "\n",
        "# 2. Entries XOR Exits == 1\n",
        "condition = (df['Exits'] == df['Entries'])\n",
        "rows_to_keep = ~condition\n",
        "df = df[rows_to_keep]"
      ]
    },
    {
      "cell_type": "markdown",
      "metadata": {
        "id": "3SmTFdHEw2x8"
      },
      "source": [
        "<h4>Menghitung Device Yang Sering Error</h4>"
      ]
    },
    {
      "cell_type": "code",
      "execution_count": 21,
      "metadata": {
        "id": "9_6fVD1Tw2x8",
        "outputId": "b7ba4b13-6cc3-4434-fa30-47d8b60c6f15",
        "colab": {
          "base_uri": "https://localhost:8080/"
        }
      },
      "outputs": [
        {
          "output_type": "stream",
          "name": "stdout",
          "text": [
            "Percentage of error: \n",
            "Device\n",
            "GW Entry 1       0.720207\n",
            "GW Entry 2       0.616016\n",
            "GW Exit 1             NaN\n",
            "GW Exit 2             NaN\n",
            "Park St EN1A     5.577312\n",
            "Park St EN1B     6.038172\n",
            "Park St EX1           NaN\n",
            "Park St EX2           NaN\n",
            "QAT Entry 1     24.969776\n",
            "QAT Entry 2     25.203231\n",
            "QAT Exit 1            NaN\n",
            "QAT Exit 2            NaN\n",
            "dtype: float64\n"
          ]
        }
      ],
      "source": [
        "error_percentage = (df_error.groupby('Device').size()/df.groupby('Device').size()) * 100\n",
        "\n",
        "print(\"Percentage of error: \")\n",
        "print(error_percentage)"
      ]
    },
    {
      "cell_type": "markdown",
      "metadata": {
        "id": "zvMSTjHjw2x8"
      },
      "source": [
        "<h4>Perhitungan Interval Rata-rata dan Standar deviasi</h4>"
      ]
    },
    {
      "cell_type": "code",
      "execution_count": 22,
      "metadata": {
        "id": "QMLF7GvMw2x9"
      },
      "outputs": [],
      "source": [
        "#Initialize first\n",
        "from scipy.stats import norm, chi2\n",
        "import math\n",
        "condition_s = df['Exits'] == 1\n",
        "df_stats = df[condition_s]\n",
        "jumlah_sample = len(df_stats)"
      ]
    },
    {
      "cell_type": "code",
      "execution_count": 23,
      "metadata": {
        "id": "QLqnrXO8w2x9",
        "outputId": "99ad6b70-f1c3-487e-94ae-7375751e6eae",
        "colab": {
          "base_uri": "https://localhost:8080/"
        }
      },
      "outputs": [
        {
          "output_type": "stream",
          "name": "stdout",
          "text": [
            "Tingkat kepercayaan: 99.99%\n",
            "Rata-rata durasi parkir berada di rentang: 153.12619996308183 - 156.35924035731455 menit\n"
          ]
        }
      ],
      "source": [
        "mean = df_stats['Parking Duration'].mean()\n",
        "#stdev populasi ~ stdev sample\n",
        "stdev = df_stats['Parking Duration'].std()\n",
        "\n",
        "alpha = 0.0001\n",
        "\n",
        "z_score = norm.ppf(1-(alpha/2), 0.1)\n",
        "batas_atas = mean + z_score * stdev/math.sqrt(jumlah_sample)\n",
        "batas_bawah = mean - z_score * stdev/math.sqrt(jumlah_sample)\n",
        "\n",
        "print(f\"Tingkat kepercayaan: {(1-alpha)*100}%\")\n",
        "print(f\"Rata-rata durasi parkir berada di rentang: {batas_bawah} - {batas_atas} menit\")"
      ]
    },
    {
      "cell_type": "code",
      "execution_count": 24,
      "metadata": {
        "id": "Q18Eu1BVw2x9",
        "outputId": "42463e12-7ecb-4bbd-e7c0-baaa4360571f",
        "colab": {
          "base_uri": "https://localhost:8080/"
        }
      },
      "outputs": [
        {
          "output_type": "stream",
          "name": "stdout",
          "text": [
            "Tingkat kepercayaan: 99.99%\n",
            "Standar deviasi durasi parkir berada di rentang: 225.01732670990754 - 227.2461851642309\n"
          ]
        }
      ],
      "source": [
        "alpha = 0.0001\n",
        "\n",
        "chi_atas = chi2.ppf(alpha/2, jumlah_sample-1)\n",
        "chi_bawah = chi2.ppf(1-(alpha/2), jumlah_sample-1)\n",
        "\n",
        "batas_bawah_std = stdev*np.sqrt(((jumlah_sample-1)/chi_bawah))\n",
        "batas_atas_std = stdev*np.sqrt(((jumlah_sample-1)/chi_atas))\n",
        "\n",
        "print(f\"Tingkat kepercayaan: {(1-alpha)*100}%\")\n",
        "print(f\"Standar deviasi durasi parkir berada di rentang: {batas_bawah_std} - {batas_atas_std}\")"
      ]
    },
    {
      "cell_type": "markdown",
      "metadata": {
        "id": "RNpmA11Cw2x-"
      },
      "source": [
        "<h4>Visualisasi dan jawaban 2a</h4>"
      ]
    },
    {
      "cell_type": "code",
      "execution_count": 25,
      "metadata": {
        "id": "tMSas0q_w2x-",
        "outputId": "fbefa749-fdbb-4592-fa06-50fd811a6a01",
        "colab": {
          "base_uri": "https://localhost:8080/",
          "height": 599
        }
      },
      "outputs": [
        {
          "output_type": "stream",
          "name": "stderr",
          "text": [
            "/usr/local/lib/python3.10/dist-packages/pandas/core/arraylike.py:396: RuntimeWarning: divide by zero encountered in log10\n",
            "  result = getattr(ufunc, method)(*inputs, **kwargs)\n"
          ]
        },
        {
          "output_type": "display_data",
          "data": {
            "text/plain": [
              "<Figure size 800x600 with 1 Axes>"
            ],
            "image/png": "[encoded data removed]"
          },
          "metadata": {}
        }
      ],
      "source": [
        "import matplotlib.pyplot as plt\n",
        "\n",
        "\n",
        "plt.figure(figsize=(8, 6))\n",
        "sns.histplot(data=np.log10(df['Parking Duration']), bins=40)\n",
        "\n",
        "ticks = [10, 100, 1000, 10000]\n",
        "\n",
        "plt.xticks(np.log10(ticks), [f'{tick:,.0f}' for tick in ticks])\n",
        "\n",
        "plt.title('Parking Duration Interval')\n",
        "plt.axvline(np.log10(batas_bawah), color='red', linestyle='-', linewidth=1, label=f'Batas bawah: {batas_bawah:,.2f}')\n",
        "plt.axvline(np.log10(batas_atas), color='blue', linestyle='-', linewidth=1, label=f'Batas atas: {batas_atas:,.2f}')\n",
        "\n",
        "plt.legend()\n",
        "\n",
        "plt.ylabel('Count')\n",
        "plt.xlabel('Duration (minutes)')\n",
        "\n",
        "plt.grid(True)\n",
        "plt.show()"
      ]
    },
    {
      "cell_type": "markdown",
      "source": [
        "<h4>Jawaban 2b</h4>"
      ],
      "metadata": {
        "id": "mKIgDE_u-Zvq"
      }
    },
    {
      "cell_type": "code",
      "source": [
        "treshold = 480\n",
        "\n",
        "problematic = (df['Parking Duration'] > treshold)\n",
        "problematic_df = df[problematic]\n",
        "problematic_df_len = len(problematic_df)\n",
        "\n",
        "df_len = len(df)\n",
        "\n",
        "problematic_df_percentage = (problematic_df_len / df_len) * 100\n",
        "\n",
        "print(f\"Persentase penduduk Cambridge problematik (bds. sampel): {problematic_df_percentage:.2f} %\")"
      ],
      "metadata": {
        "colab": {
          "base_uri": "https://localhost:8080/"
        },
        "id": "RHpZnP3XRJdD",
        "outputId": "32241645-a909-445c-c44a-7078ece21457"
      },
      "execution_count": 26,
      "outputs": [
        {
          "output_type": "stream",
          "name": "stdout",
          "text": [
            "Persentase penduduk Cambridge problematik (bds. sampel): 1.03 %\n"
          ]
        }
      ]
    },
    {
      "cell_type": "code",
      "source": [
        "p = problematic_df_len / df_len\n",
        "se = np.sqrt((p * (1 - p)) / df_len)\n",
        "alpha = 0.05\n",
        "\n",
        "critical_value = stats.norm.ppf(1 - (alpha / 2), loc=0, scale=1) #z-score\n",
        "error_margin = critical_value * se\n",
        "\n",
        "xl = p - error_margin\n",
        "xu = p + error_margin\n",
        "\n",
        "print(\"Estimasi persentase pengguna lapangan parkir bermasalah dengan tingkat kepercayaan 95%\")\n",
        "print(f\"Batas bawah: {xl * 100:.2f}%\")\n",
        "print(f\"Batas atas: {xu * 100:.2f}%\")"
      ],
      "metadata": {
        "id": "eKrBQRhF-Wa-",
        "colab": {
          "base_uri": "https://localhost:8080/"
        },
        "outputId": "efb3c123-f4fb-440f-fc8e-521fe59884a3"
      },
      "execution_count": 29,
      "outputs": [
        {
          "output_type": "stream",
          "name": "stdout",
          "text": [
            "Estimasi persentase pengguna lapangan parkir bermasalah dengan tingkat kepercayaan 95%\n",
            "Batas bawah: 1.01%\n",
            "Batas atas: 1.06%\n"
          ]
        }
      ]
    },
    {
      "cell_type": "markdown",
      "source": [
        "<h4>Jawaban 2c</h4>"
      ],
      "metadata": {
        "id": "F2L_qnGixNGz"
      }
    },
    {
      "cell_type": "code",
      "source": [
        "import math\n",
        "\n",
        "def calculate_parking_cost(duration):\n",
        "    hour = math.ceil(duration / 60)\n",
        "    if hour < 8:\n",
        "        return 0.75 * hour\n",
        "    else:\n",
        "        return 6.0\n",
        "\n",
        "df['Parking Cost'] = df['Parking Duration'].apply(calculate_parking_cost)\n",
        "\n",
        "df_non_zero = df[df['Parking Cost'] > 0]\n",
        "\n",
        "average_income = df_non_zero['Parking Cost'].mean()\n",
        "std_dev_income = df_non_zero['Parking Cost'].std()\n",
        "\n",
        "print(\"Average Parking Income: £{:.2f}\".format(average_income))\n",
        "print(\"Standard Deviation of Parking Income:\", (std_dev_income))"
      ],
      "metadata": {
        "id": "Agkn7xnnxKeb",
        "colab": {
          "base_uri": "https://localhost:8080/"
        },
        "outputId": "fecbecde-3370-4323-915b-f3c21ba31b33"
      },
      "execution_count": 30,
      "outputs": [
        {
          "output_type": "stream",
          "name": "stdout",
          "text": [
            "Average Parking Income: £2.18\n",
            "Standard Deviation of Parking Income: 1.23031980838106\n"
          ]
        }
      ]
    },
    {
      "cell_type": "markdown",
      "source": [
        "<h4>Jawaban 2d</h4>"
      ],
      "metadata": {
        "id": "nWKbAiJF-EpZ"
      }
    },
    {
      "cell_type": "markdown",
      "source": [
        "Untuk memminimalisir pengguna bermasalah, maka kami menerapkan pengalian tarik perjam dengan faktor pengali 1.5."
      ],
      "metadata": {
        "id": "JpEaNflU-hNl"
      }
    },
    {
      "cell_type": "code",
      "source": [
        "cost = [1,2,2,1,1,1,1,1]\n",
        "sum_cost = sum(cost)\n",
        "\n",
        "i = 8\n",
        "while i <= 24:\n",
        "    sum_cost = sum_cost * 1.5\n",
        "    print(f\"Total fee at {i} hours: {sum_cost}\")\n",
        "    i += 1"
      ],
      "metadata": {
        "colab": {
          "base_uri": "https://localhost:8080/"
        },
        "id": "MuYVQr7g-EMN",
        "outputId": "0cc48cba-e50f-4d9d-d14a-5f34b1718814"
      },
      "execution_count": null,
      "outputs": [
        {
          "output_type": "stream",
          "name": "stdout",
          "text": [
            "Total fee at 8 hours: 15.0\n",
            "Total fee at 9 hours: 22.5\n",
            "Total fee at 10 hours: 33.75\n",
            "Total fee at 11 hours: 50.625\n",
            "Total fee at 12 hours: 75.9375\n",
            "Total fee at 13 hours: 113.90625\n",
            "Total fee at 14 hours: 170.859375\n",
            "Total fee at 15 hours: 256.2890625\n",
            "Total fee at 16 hours: 384.43359375\n",
            "Total fee at 17 hours: 576.650390625\n",
            "Total fee at 18 hours: 864.9755859375\n",
            "Total fee at 19 hours: 1297.46337890625\n",
            "Total fee at 20 hours: 1946.195068359375\n",
            "Total fee at 21 hours: 2919.2926025390625\n",
            "Total fee at 22 hours: 4378.938903808594\n",
            "Total fee at 23 hours: 6568.408355712891\n",
            "Total fee at 24 hours: 9852.612533569336\n"
          ]
        }
      ]
    },
    {
      "cell_type": "markdown",
      "source": [
        "Untuk meningkatkan pengguna berdurasi singkat, kami menetapkan agar 30 menit pertama menjadi gratis. 30 menit diambil karena tidak terdapat banyak pengguna pada saat itu, maka potential revenue lost tidak sebesar 60 menit pertama"
      ],
      "metadata": {
        "id": "1Zni8JyY-yI1"
      }
    },
    {
      "cell_type": "code",
      "source": [
        "ranges = ['1-30 minutes', '1-60 minutes']\n",
        "time_intervals = [(1, 30), (1, 60)]\n",
        "frequencies = []\n",
        "for start, end in time_intervals:\n",
        "    frequency = ((df[\"Parking Duration\"] >= start) & (df[\"Parking Duration\"] <= end)).sum()\n",
        "    frequencies.append(frequency)\n",
        "\n",
        "\n",
        "plt.figure(figsize=(8, 6))\n",
        "\n",
        "plt.bar(ranges, frequencies, color=['green', 'red'])\n",
        "plt.title('30 Minutes vs 60 Minutes Free parking')\n",
        "plt.xlabel('Time Ranges')\n",
        "plt.ylabel('Frequency')\n",
        "\n",
        "plt.show()\n"
      ],
      "metadata": {
        "colab": {
          "base_uri": "https://localhost:8080/",
          "height": 499
        },
        "id": "oXarTp04-xs5",
        "outputId": "563c99fb-cd6f-4029-e9b6-c368405e3bb7"
      },
      "execution_count": null,
      "outputs": [
        {
          "output_type": "display_data",
          "data": {
            "text/plain": [
              "<Figure size 800x600 with 1 Axes>"
            ],
            "image/png": "[encoded data removed]"
          },
          "metadata": {}
        }
      ]
    },
    {
      "cell_type": "code",
      "source": [
        "ranges = ['1-30 minutes', '1-60 minutes']\n",
        "time_intervals = [(1, 30), (1, 60)]\n",
        "\n",
        "\n",
        "hourly_rate = 1\n",
        "revenue_lost = []\n",
        "revenue_gained = []\n",
        "\n",
        "for start, end in time_intervals:\n",
        "    within_range = (df[\"Parking Duration\"] >= start) & (df[\"Parking Duration\"] <= end)\n",
        "    frequency = within_range.sum()\n",
        "    if start == 1:\n",
        "        revenue_lost.append(frequency * hourly_rate * (end - start) / 60)\n",
        "    else:\n",
        "        duration_hours = math.ceil(end / 60) - math.ceil(start / 60)\n",
        "        duration_hours -= 1\n",
        "        revenue_lost.append(frequency * hourly_rate * duration_hours)\n",
        "        revenue_gained.append(((df[\"Parking Duration\"] > end) & (df[\"Parking Duration\"] <= end + 30)).sum() * hourly_rate)\n",
        "\n",
        "\n",
        "if len(revenue_gained) < len(revenue_lost):\n",
        "    revenue_gained.append(0)\n",
        "\n",
        "plt.figure(figsize=(8, 6))\n",
        "plt.bar(ranges[0], revenue_lost[0], color='green', label='1-30 minutes')\n",
        "plt.bar(ranges[1], revenue_lost[1], color='red', label='1-60 minutes')\n",
        "plt.title('Potential Revenue Lost in Different Time Ranges')\n",
        "plt.xlabel('Time Ranges')\n",
        "plt.ylabel('Potential Revenue Lost (GBP)')\n",
        "plt.legend()\n",
        "\n",
        "plt.show()\n"
      ],
      "metadata": {
        "id": "R05lvzqN_gLo",
        "colab": {
          "base_uri": "https://localhost:8080/",
          "height": 499
        },
        "outputId": "70edc2a1-b885-48e4-fabd-d9d30d43f7ba"
      },
      "execution_count": null,
      "outputs": [
        {
          "output_type": "display_data",
          "data": {
            "text/plain": [
              "<Figure size 800x600 with 1 Axes>"
            ],
            "image/png": "[encoded data removed]"
          },
          "metadata": {}
        }
      ]
    }
  ],
  "metadata": {
    "kernelspec": {
      "display_name": "Python 3",
      "language": "python",
      "name": "python3"
    },
    "language_info": {
      "codemirror_mode": {
        "name": "ipython",
        "version": 3
      },
      "file_extension": ".py",
      "mimetype": "text/x-python",
      "name": "python",
      "nbconvert_exporter": "python",
      "pygments_lexer": "ipython3",
      "version": "3.12.0"
    },
    "colab": {
      "provenance": []
    }
  },
  "nbformat": 4,
  "nbformat_minor": 0
}