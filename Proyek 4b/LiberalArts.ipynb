{
  "cells": [
    {
      "cell_type": "markdown",
      "source": [
        "## Import Library"
      ],
      "metadata": {
        "id": "q_fC62LRO19Y"
      }
    },
    {
      "cell_type": "code",
      "execution_count": 18,
      "metadata": {
        "id": "i-q97RQEKm1T"
      },
      "outputs": [],
      "source": [
        "import pandas as pd\n",
        "import numpy as np\n",
        "import seaborn as sns\n",
        "import matplotlib.pyplot as plt\n",
        "from statsmodels.stats.proportion import proportions_ztest\n",
        "import scipy.stats as stats\n",
        "from statsmodels.stats.weightstats import ztest"
      ]
    },
    {
      "cell_type": "markdown",
      "source": [
        "## Baca dan buat dataframe berdasarkan semester"
      ],
      "metadata": {
        "id": "wIiZrLYUO6IC"
      }
    },
    {
      "cell_type": "code",
      "execution_count": 19,
      "metadata": {
        "id": "_OoAd5QUKm1W",
        "colab": {
          "base_uri": "https://localhost:8080/",
          "height": 206
        },
        "outputId": "bc0aa021-3d4e-4030-fbd1-a2158a6ea33c"
      },
      "outputs": [
        {
          "output_type": "execute_result",
          "data": {
            "text/plain": [
              "             Timestamp                         Email  \\\n",
              "0  02/05/2024 12:25:00     stevenjohan.sjj@gmail.com   \n",
              "1  02/05/2024 12:30:45     renatakharis282@gmail.com   \n",
              "2  02/05/2024 12:31:16      geryyulianto07@gmail.com   \n",
              "3  02/05/2024 12:41:30  glim76@students.calvin.ac.id   \n",
              "4  02/05/2024 12:44:15        hizkiank256p@gmail.com   \n",
              "\n",
              "                       Nama     Gender  Angkatan Prodi      Meminjam  \\\n",
              "0              Steven Johan  Laki-laki      2022  IBDA        Pernah   \n",
              "1  Renata Kharis Enggrasari  Perempuan      2022   BMS        Pernah   \n",
              "2                       Ger  Laki-laki      2022  IBDA  Tidak Pernah   \n",
              "3         Grace Calista Lim  Perempuan      2022  IBDA        Pernah   \n",
              "4      Hizkia Justine Hasan  Laki-laki      2022  IBDA        Pernah   \n",
              "\n",
              "  Semester tidak pinjam   2   3   4   5   6  1  3  4  5  6  \n",
              "0                     4   1   1   0   0   0  1  0  0  0  0  \n",
              "1                 2,3,4   0   0   0   0   0  1  0  0  0  0  \n",
              "2               1,2,3,4   0   0   0   0   0  0  0  0  0  0  \n",
              "3                 2,3,4   0   0   0   0   0  1  0  0  0  0  \n",
              "4                     4   1   1   0   0   0  1  0  0  0  0  "
            ],
            "text/html": [
              "\n",
              "  <div id=\"df-314c3418-9574-4d2b-af38-fa00bcb2e131\" class=\"colab-df-container\">\n",
              "    <div>\n",
              "<style scoped>\n",
              "    .dataframe tbody tr th:only-of-type {\n",
              "        vertical-align: middle;\n",
              "    }\n",
              "\n",
              "    .dataframe tbody tr th {\n",
              "        vertical-align: top;\n",
              "    }\n",
              "\n",
              "    .dataframe thead th {\n",
              "        text-align: right;\n",
              "    }\n",
              "</style>\n",
              "<table border=\"1\" class=\"dataframe\">\n",
              "  <thead>\n",
              "    <tr style=\"text-align: right;\">\n",
              "      <th></th>\n",
              "      <th>Timestamp</th>\n",
              "      <th>Email</th>\n",
              "      <th>Nama</th>\n",
              "      <th>Gender</th>\n",
              "      <th>Angkatan</th>\n",
              "      <th>Prodi</th>\n",
              "      <th>Meminjam</th>\n",
              "      <th>Semester tidak pinjam</th>\n",
              "      <th>2</th>\n",
              "      <th>3</th>\n",
              "      <th>4</th>\n",
              "      <th>5</th>\n",
              "      <th>6</th>\n",
              "      <th>1</th>\n",
              "      <th>3</th>\n",
              "      <th>4</th>\n",
              "      <th>5</th>\n",
              "      <th>6</th>\n",
              "    </tr>\n",
              "  </thead>\n",
              "  <tbody>\n",
              "    <tr>\n",
              "      <th>0</th>\n",
              "      <td>02/05/2024 12:25:00</td>\n",
              "      <td>stevenjohan.sjj@gmail.com</td>\n",
              "      <td>Steven Johan</td>\n",
              "      <td>Laki-laki</td>\n",
              "      <td>2022</td>\n",
              "      <td>IBDA</td>\n",
              "      <td>Pernah</td>\n",
              "      <td>4</td>\n",
              "      <td>1</td>\n",
              "      <td>1</td>\n",
              "      <td>0</td>\n",
              "      <td>0</td>\n",
              "      <td>0</td>\n",
              "      <td>1</td>\n",
              "      <td>0</td>\n",
              "      <td>0</td>\n",
              "      <td>0</td>\n",
              "      <td>0</td>\n",
              "    </tr>\n",
              "    <tr>\n",
              "      <th>1</th>\n",
              "      <td>02/05/2024 12:30:45</td>\n",
              "      <td>renatakharis282@gmail.com</td>\n",
              "      <td>Renata Kharis Enggrasari</td>\n",
              "      <td>Perempuan</td>\n",
              "      <td>2022</td>\n",
              "      <td>BMS</td>\n",
              "      <td>Pernah</td>\n",
              "      <td>2,3,4</td>\n",
              "      <td>0</td>\n",
              "      <td>0</td>\n",
              "      <td>0</td>\n",
              "      <td>0</td>\n",
              "      <td>0</td>\n",
              "      <td>1</td>\n",
              "      <td>0</td>\n",
              "      <td>0</td>\n",
              "      <td>0</td>\n",
              "      <td>0</td>\n",
              "    </tr>\n",
              "    <tr>\n",
              "      <th>2</th>\n",
              "      <td>02/05/2024 12:31:16</td>\n",
              "      <td>geryyulianto07@gmail.com</td>\n",
              "      <td>Ger</td>\n",
              "      <td>Laki-laki</td>\n",
              "      <td>2022</td>\n",
              "      <td>IBDA</td>\n",
              "      <td>Tidak Pernah</td>\n",
              "      <td>1,2,3,4</td>\n",
              "      <td>0</td>\n",
              "      <td>0</td>\n",
              "      <td>0</td>\n",
              "      <td>0</td>\n",
              "      <td>0</td>\n",
              "      <td>0</td>\n",
              "      <td>0</td>\n",
              "      <td>0</td>\n",
              "      <td>0</td>\n",
              "      <td>0</td>\n",
              "    </tr>\n",
              "    <tr>\n",
              "      <th>3</th>\n",
              "      <td>02/05/2024 12:41:30</td>\n",
              "      <td>glim76@students.calvin.ac.id</td>\n",
              "      <td>Grace Calista Lim</td>\n",
              "      <td>Perempuan</td>\n",
              "      <td>2022</td>\n",
              "      <td>IBDA</td>\n",
              "      <td>Pernah</td>\n",
              "      <td>2,3,4</td>\n",
              "      <td>0</td>\n",
              "      <td>0</td>\n",
              "      <td>0</td>\n",
              "      <td>0</td>\n",
              "      <td>0</td>\n",
              "      <td>1</td>\n",
              "      <td>0</td>\n",
              "      <td>0</td>\n",
              "      <td>0</td>\n",
              "      <td>0</td>\n",
              "    </tr>\n",
              "    <tr>\n",
              "      <th>4</th>\n",
              "      <td>02/05/2024 12:44:15</td>\n",
              "      <td>hizkiank256p@gmail.com</td>\n",
              "      <td>Hizkia Justine Hasan</td>\n",
              "      <td>Laki-laki</td>\n",
              "      <td>2022</td>\n",
              "      <td>IBDA</td>\n",
              "      <td>Pernah</td>\n",
              "      <td>4</td>\n",
              "      <td>1</td>\n",
              "      <td>1</td>\n",
              "      <td>0</td>\n",
              "      <td>0</td>\n",
              "      <td>0</td>\n",
              "      <td>1</td>\n",
              "      <td>0</td>\n",
              "      <td>0</td>\n",
              "      <td>0</td>\n",
              "      <td>0</td>\n",
              "    </tr>\n",
              "  </tbody>\n",
              "</table>\n",
              "</div>\n",
              "    <div class=\"colab-df-buttons\">\n",
              "\n",
              "  <div class=\"colab-df-container\">\n",
              "    <button class=\"colab-df-convert\" onclick=\"convertToInteractive('df-314c3418-9574-4d2b-af38-fa00bcb2e131')\"\n",
              "            title=\"Convert this dataframe to an interactive table.\"\n",
              "            style=\"display:none;\">\n",
              "\n",
              "  <svg xmlns=\"http://www.w3.org/2000/svg\" height=\"24px\" viewBox=\"0 -960 960 960\">\n",
              "    <path d=\"M120-120v-720h720v720H120Zm60-500h600v-160H180v160Zm220 220h160v-160H400v160Zm0 220h160v-160H400v160ZM180-400h160v-160H180v160Zm440 0h160v-160H620v160ZM180-180h160v-160H180v160Zm440 0h160v-160H620v160Z\"/>\n",
              "  </svg>\n",
              "    </button>\n",
              "\n",
              "  <style>\n",
              "    .colab-df-container {\n",
              "      display:flex;\n",
              "      gap: 12px;\n",
              "    }\n",
              "\n",
              "    .colab-df-convert {\n",
              "      background-color: #E8F0FE;\n",
              "      border: none;\n",
              "      border-radius: 50%;\n",
              "      cursor: pointer;\n",
              "      display: none;\n",
              "      fill: #1967D2;\n",
              "      height: 32px;\n",
              "      padding: 0 0 0 0;\n",
              "      width: 32px;\n",
              "    }\n",
              "\n",
              "    .colab-df-convert:hover {\n",
              "      background-color: #E2EBFA;\n",
              "      box-shadow: 0px 1px 2px rgba(60, 64, 67, 0.3), 0px 1px 3px 1px rgba(60, 64, 67, 0.15);\n",
              "      fill: #174EA6;\n",
              "    }\n",
              "\n",
              "    .colab-df-buttons div {\n",
              "      margin-bottom: 4px;\n",
              "    }\n",
              "\n",
              "    [theme=dark] .colab-df-convert {\n",
              "      background-color: #3B4455;\n",
              "      fill: #D2E3FC;\n",
              "    }\n",
              "\n",
              "    [theme=dark] .colab-df-convert:hover {\n",
              "      background-color: #434B5C;\n",
              "      box-shadow: 0px 1px 3px 1px rgba(0, 0, 0, 0.15);\n",
              "      filter: drop-shadow(0px 1px 2px rgba(0, 0, 0, 0.3));\n",
              "      fill: #FFFFFF;\n",
              "    }\n",
              "  </style>\n",
              "\n",
              "    <script>\n",
              "      const buttonEl =\n",
              "        document.querySelector('#df-314c3418-9574-4d2b-af38-fa00bcb2e131 button.colab-df-convert');\n",
              "      buttonEl.style.display =\n",
              "        google.colab.kernel.accessAllowed ? 'block' : 'none';\n",
              "\n",
              "      async function convertToInteractive(key) {\n",
              "        const element = document.querySelector('#df-314c3418-9574-4d2b-af38-fa00bcb2e131');\n",
              "        const dataTable =\n",
              "          await google.colab.kernel.invokeFunction('convertToInteractive',\n",
              "                                                    [key], {});\n",
              "        if (!dataTable) return;\n",
              "\n",
              "        const docLinkHtml = 'Like what you see? Visit the ' +\n",
              "          '<a target=\"_blank\" href=https://colab.research.google.com/notebooks/data_table.ipynb>data table notebook</a>'\n",
              "          + ' to learn more about interactive tables.';\n",
              "        element.innerHTML = '';\n",
              "        dataTable['output_type'] = 'display_data';\n",
              "        await google.colab.output.renderOutput(dataTable, element);\n",
              "        const docLink = document.createElement('div');\n",
              "        docLink.innerHTML = docLinkHtml;\n",
              "        element.appendChild(docLink);\n",
              "      }\n",
              "    </script>\n",
              "  </div>\n",
              "\n",
              "\n",
              "<div id=\"df-3093f88f-8104-4229-81b4-8f5d99786f89\">\n",
              "  <button class=\"colab-df-quickchart\" onclick=\"quickchart('df-3093f88f-8104-4229-81b4-8f5d99786f89')\"\n",
              "            title=\"Suggest charts\"\n",
              "            style=\"display:none;\">\n",
              "\n",
              "<svg xmlns=\"http://www.w3.org/2000/svg\" height=\"24px\"viewBox=\"0 0 24 24\"\n",
              "     width=\"24px\">\n",
              "    <g>\n",
              "        <path d=\"M19 3H5c-1.1 0-2 .9-2 2v14c0 1.1.9 2 2 2h14c1.1 0 2-.9 2-2V5c0-1.1-.9-2-2-2zM9 17H7v-7h2v7zm4 0h-2V7h2v10zm4 0h-2v-4h2v4z\"/>\n",
              "    </g>\n",
              "</svg>\n",
              "  </button>\n",
              "\n",
              "<style>\n",
              "  .colab-df-quickchart {\n",
              "      --bg-color: #E8F0FE;\n",
              "      --fill-color: #1967D2;\n",
              "      --hover-bg-color: #E2EBFA;\n",
              "      --hover-fill-color: #174EA6;\n",
              "      --disabled-fill-color: #AAA;\n",
              "      --disabled-bg-color: #DDD;\n",
              "  }\n",
              "\n",
              "  [theme=dark] .colab-df-quickchart {\n",
              "      --bg-color: #3B4455;\n",
              "      --fill-color: #D2E3FC;\n",
              "      --hover-bg-color: #434B5C;\n",
              "      --hover-fill-color: #FFFFFF;\n",
              "      --disabled-bg-color: #3B4455;\n",
              "      --disabled-fill-color: #666;\n",
              "  }\n",
              "\n",
              "  .colab-df-quickchart {\n",
              "    background-color: var(--bg-color);\n",
              "    border: none;\n",
              "    border-radius: 50%;\n",
              "    cursor: pointer;\n",
              "    display: none;\n",
              "    fill: var(--fill-color);\n",
              "    height: 32px;\n",
              "    padding: 0;\n",
              "    width: 32px;\n",
              "  }\n",
              "\n",
              "  .colab-df-quickchart:hover {\n",
              "    background-color: var(--hover-bg-color);\n",
              "    box-shadow: 0 1px 2px rgba(60, 64, 67, 0.3), 0 1px 3px 1px rgba(60, 64, 67, 0.15);\n",
              "    fill: var(--button-hover-fill-color);\n",
              "  }\n",
              "\n",
              "  .colab-df-quickchart-complete:disabled,\n",
              "  .colab-df-quickchart-complete:disabled:hover {\n",
              "    background-color: var(--disabled-bg-color);\n",
              "    fill: var(--disabled-fill-color);\n",
              "    box-shadow: none;\n",
              "  }\n",
              "\n",
              "  .colab-df-spinner {\n",
              "    border: 2px solid var(--fill-color);\n",
              "    border-color: transparent;\n",
              "    border-bottom-color: var(--fill-color);\n",
              "    animation:\n",
              "      spin 1s steps(1) infinite;\n",
              "  }\n",
              "\n",
              "  @keyframes spin {\n",
              "    0% {\n",
              "      border-color: transparent;\n",
              "      border-bottom-color: var(--fill-color);\n",
              "      border-left-color: var(--fill-color);\n",
              "    }\n",
              "    20% {\n",
              "      border-color: transparent;\n",
              "      border-left-color: var(--fill-color);\n",
              "      border-top-color: var(--fill-color);\n",
              "    }\n",
              "    30% {\n",
              "      border-color: transparent;\n",
              "      border-left-color: var(--fill-color);\n",
              "      border-top-color: var(--fill-color);\n",
              "      border-right-color: var(--fill-color);\n",
              "    }\n",
              "    40% {\n",
              "      border-color: transparent;\n",
              "      border-right-color: var(--fill-color);\n",
              "      border-top-color: var(--fill-color);\n",
              "    }\n",
              "    60% {\n",
              "      border-color: transparent;\n",
              "      border-right-color: var(--fill-color);\n",
              "    }\n",
              "    80% {\n",
              "      border-color: transparent;\n",
              "      border-right-color: var(--fill-color);\n",
              "      border-bottom-color: var(--fill-color);\n",
              "    }\n",
              "    90% {\n",
              "      border-color: transparent;\n",
              "      border-bottom-color: var(--fill-color);\n",
              "    }\n",
              "  }\n",
              "</style>\n",
              "\n",
              "  <script>\n",
              "    async function quickchart(key) {\n",
              "      const quickchartButtonEl =\n",
              "        document.querySelector('#' + key + ' button');\n",
              "      quickchartButtonEl.disabled = true;  // To prevent multiple clicks.\n",
              "      quickchartButtonEl.classList.add('colab-df-spinner');\n",
              "      try {\n",
              "        const charts = await google.colab.kernel.invokeFunction(\n",
              "            'suggestCharts', [key], {});\n",
              "      } catch (error) {\n",
              "        console.error('Error during call to suggestCharts:', error);\n",
              "      }\n",
              "      quickchartButtonEl.classList.remove('colab-df-spinner');\n",
              "      quickchartButtonEl.classList.add('colab-df-quickchart-complete');\n",
              "    }\n",
              "    (() => {\n",
              "      let quickchartButtonEl =\n",
              "        document.querySelector('#df-3093f88f-8104-4229-81b4-8f5d99786f89 button');\n",
              "      quickchartButtonEl.style.display =\n",
              "        google.colab.kernel.accessAllowed ? 'block' : 'none';\n",
              "    })();\n",
              "  </script>\n",
              "</div>\n",
              "    </div>\n",
              "  </div>\n"
            ],
            "application/vnd.google.colaboratory.intrinsic+json": {
              "type": "dataframe",
              "variable_name": "data",
              "summary": "{\n  \"name\": \"data\",\n  \"rows\": 51,\n  \"fields\": [\n    {\n      \"column\": \"Timestamp\",\n      \"properties\": {\n        \"dtype\": \"object\",\n        \"num_unique_values\": 51,\n        \"samples\": [\n          \"02/05/2024 19:35:29\",\n          \"02/05/2024 17:51:29\",\n          \"02/05/2024 19:54:42\"\n        ],\n        \"semantic_type\": \"\",\n        \"description\": \"\"\n      }\n    },\n    {\n      \"column\": \"Email\",\n      \"properties\": {\n        \"dtype\": \"string\",\n        \"num_unique_values\": 51,\n        \"samples\": [\n          \"matthewdanielsurupati@gmail.com\",\n          \"clie58@students.calvin.ac.id\",\n          \"noelmandak03@gmail.com\"\n        ],\n        \"semantic_type\": \"\",\n        \"description\": \"\"\n      }\n    },\n    {\n      \"column\": \"Nama\",\n      \"properties\": {\n        \"dtype\": \"string\",\n        \"num_unique_values\": 51,\n        \"samples\": [\n          \"Matthew Daniel Surupati\",\n          \"Clara Maria Lie\",\n          \"Noel Christevent Mandak\"\n        ],\n        \"semantic_type\": \"\",\n        \"description\": \"\"\n      }\n    },\n    {\n      \"column\": \"Gender\",\n      \"properties\": {\n        \"dtype\": \"category\",\n        \"num_unique_values\": 2,\n        \"samples\": [\n          \"Perempuan\",\n          \"Laki-laki\"\n        ],\n        \"semantic_type\": \"\",\n        \"description\": \"\"\n      }\n    },\n    {\n      \"column\": \"Angkatan\",\n      \"properties\": {\n        \"dtype\": \"number\",\n        \"std\": 1,\n        \"min\": 2020,\n        \"max\": 2023,\n        \"num_unique_values\": 4,\n        \"samples\": [\n          2021,\n          2023\n        ],\n        \"semantic_type\": \"\",\n        \"description\": \"\"\n      }\n    },\n    {\n      \"column\": \"Prodi\",\n      \"properties\": {\n        \"dtype\": \"category\",\n        \"num_unique_values\": 6,\n        \"samples\": [\n          \"IBDA\",\n          \"BMS\"\n        ],\n        \"semantic_type\": \"\",\n        \"description\": \"\"\n      }\n    },\n    {\n      \"column\": \"Meminjam\",\n      \"properties\": {\n        \"dtype\": \"category\",\n        \"num_unique_values\": 2,\n        \"samples\": [\n          \"Tidak Pernah\",\n          \"Pernah\"\n        ],\n        \"semantic_type\": \"\",\n        \"description\": \"\"\n      }\n    },\n    {\n      \"column\": \"Semester tidak pinjam\",\n      \"properties\": {\n        \"dtype\": \"category\",\n        \"num_unique_values\": 19,\n        \"samples\": [\n          \"4\",\n          \"1,2,3,4,5,6\"\n        ],\n        \"semantic_type\": \"\",\n        \"description\": \"\"\n      }\n    },\n    {\n      \"column\": \" 2\",\n      \"properties\": {\n        \"dtype\": \"number\",\n        \"std\": 0,\n        \"min\": 0,\n        \"max\": 1,\n        \"num_unique_values\": 2,\n        \"samples\": [\n          0,\n          1\n        ],\n        \"semantic_type\": \"\",\n        \"description\": \"\"\n      }\n    },\n    {\n      \"column\": \" 3\",\n      \"properties\": {\n        \"dtype\": \"number\",\n        \"std\": 0,\n        \"min\": 0,\n        \"max\": 1,\n        \"num_unique_values\": 2,\n        \"samples\": [\n          0,\n          1\n        ],\n        \"semantic_type\": \"\",\n        \"description\": \"\"\n      }\n    },\n    {\n      \"column\": \" 4\",\n      \"properties\": {\n        \"dtype\": \"number\",\n        \"std\": 0,\n        \"min\": 0,\n        \"max\": 1,\n        \"num_unique_values\": 2,\n        \"samples\": [\n          1,\n          0\n        ],\n        \"semantic_type\": \"\",\n        \"description\": \"\"\n      }\n    },\n    {\n      \"column\": \" 5\",\n      \"properties\": {\n        \"dtype\": \"number\",\n        \"std\": 0,\n        \"min\": 0,\n        \"max\": 1,\n        \"num_unique_values\": 2,\n        \"samples\": [\n          1,\n          0\n        ],\n        \"semantic_type\": \"\",\n        \"description\": \"\"\n      }\n    },\n    {\n      \"column\": \" 6\",\n      \"properties\": {\n        \"dtype\": \"number\",\n        \"std\": 0,\n        \"min\": 0,\n        \"max\": 1,\n        \"num_unique_values\": 2,\n        \"samples\": [\n          1,\n          0\n        ],\n        \"semantic_type\": \"\",\n        \"description\": \"\"\n      }\n    },\n    {\n      \"column\": \"1\",\n      \"properties\": {\n        \"dtype\": \"number\",\n        \"std\": 0,\n        \"min\": 0,\n        \"max\": 1,\n        \"num_unique_values\": 2,\n        \"samples\": [\n          0,\n          1\n        ],\n        \"semantic_type\": \"\",\n        \"description\": \"\"\n      }\n    },\n    {\n      \"column\": \"3\",\n      \"properties\": {\n        \"dtype\": \"number\",\n        \"std\": 0,\n        \"min\": 0,\n        \"max\": 1,\n        \"num_unique_values\": 2,\n        \"samples\": [\n          1,\n          0\n        ],\n        \"semantic_type\": \"\",\n        \"description\": \"\"\n      }\n    },\n    {\n      \"column\": \"4\",\n      \"properties\": {\n        \"dtype\": \"number\",\n        \"std\": 0,\n        \"min\": 0,\n        \"max\": 1,\n        \"num_unique_values\": 2,\n        \"samples\": [\n          1,\n          0\n        ],\n        \"semantic_type\": \"\",\n        \"description\": \"\"\n      }\n    },\n    {\n      \"column\": \"5\",\n      \"properties\": {\n        \"dtype\": \"number\",\n        \"std\": 0,\n        \"min\": 0,\n        \"max\": 1,\n        \"num_unique_values\": 2,\n        \"samples\": [\n          1,\n          0\n        ],\n        \"semantic_type\": \"\",\n        \"description\": \"\"\n      }\n    },\n    {\n      \"column\": \"6\",\n      \"properties\": {\n        \"dtype\": \"number\",\n        \"std\": 0,\n        \"min\": 0,\n        \"max\": 1,\n        \"num_unique_values\": 2,\n        \"samples\": [\n          1,\n          0\n        ],\n        \"semantic_type\": \"\",\n        \"description\": \"\"\n      }\n    }\n  ]\n}"
            }
          },
          "metadata": {},
          "execution_count": 19
        }
      ],
      "source": [
        "df = pd.read_csv(\"data proyek 3b.csv\")\n",
        "\n",
        "semester_dummies = df['Semester pinjam'].str.get_dummies(',')\n",
        "# Pisahkan semester\n",
        "data = pd.concat([df, semester_dummies], axis=1)\n",
        "data = data.drop('Semester pinjam', axis=1)\n",
        "data.head()"
      ]
    },
    {
      "cell_type": "markdown",
      "metadata": {
        "id": "ejACrg4yKm1X"
      },
      "source": [
        "## Distribusi Data Berdasarkan Beberapa Kategori"
      ]
    },
    {
      "cell_type": "code",
      "execution_count": 20,
      "metadata": {
        "colab": {
          "base_uri": "https://localhost:8080/",
          "height": 1000
        },
        "id": "oKcoGPHpKm1Z",
        "outputId": "8e016d72-7fae-40e4-f7af-cd1a06887ce4"
      },
      "outputs": [
        {
          "output_type": "display_data",
          "data": {
            "text/plain": [
              "<Figure size 800x600 with 1 Axes>"
            ],
            "image/png": "[encoded data removed]"
          },
          "metadata": {}
        },
        {
          "output_type": "display_data",
          "data": {
            "text/plain": [
              "<Figure size 800x600 with 1 Axes>"
            ],
            "image/png": "[encoded data removed]"
          },
          "metadata": {}
        },
        {
          "output_type": "display_data",
          "data": {
            "text/plain": [
              "<Figure size 800x600 with 1 Axes>"
            ],
            "image/png": "[encoded data removed]"
          },
          "metadata": {}
        }
      ],
      "source": [
        "#Pie chart\n",
        "\n",
        "#By Prodi\n",
        "prodi_counts = data['Prodi'].value_counts()\n",
        "\n",
        "plt.figure(figsize=(8, 6))\n",
        "plt.pie(prodi_counts.values, labels=prodi_counts.index, autopct='%1.1f%%')\n",
        "plt.title('Distribusi Data Berdasarkan Prodi')\n",
        "\n",
        "plt.show()\n",
        "\n",
        "#By Angkatan\n",
        "angkatan_counts = data['Angkatan'].value_counts()\n",
        "\n",
        "plt.figure(figsize=(8, 6))\n",
        "color_palette = sns.color_palette('deep')\n",
        "plt.pie(angkatan_counts.values, labels=angkatan_counts.index, autopct='%1.1f%%', colors=color_palette)\n",
        "plt.title('Distribusi Data Berdasarkan Angkatan')\n",
        "\n",
        "plt.show()\n",
        "\n",
        "#By Gender\n",
        "gender_counts = data['Gender'].value_counts()\n",
        "\n",
        "plt.figure(figsize=(8, 6))\n",
        "color_palette = sns.color_palette('pastel')\n",
        "plt.pie(gender_counts.values, labels=gender_counts.index, autopct='%1.1f%%', colors=color_palette)\n",
        "plt.title('Distribusi Data Berdasarkan Gender')\n",
        "\n",
        "plt.show()"
      ]
    },
    {
      "cell_type": "markdown",
      "source": [
        "# Masalah 1"
      ],
      "metadata": {
        "id": "DKsL-pfuPVQe"
      }
    },
    {
      "cell_type": "markdown",
      "metadata": {
        "id": "gv2Wc_b9Km1a"
      },
      "source": [
        "## 1. Formulasikan Hipotesis\n",
        "\n",
        "\n",
        "Misalkan $X$ menyatakan variabel acak dari tingkat **ketidakliterasian** Liberal Arts mahasiswa CIT. Untuk menguji apakah pernyataan \"$P_X > 75\\%$\" sahih secara statistika, maka tuliskan pernyataan tersebut sebagai **hipotesis tandingan ($H_1$)**, yaitu\n",
        "\n",
        "$$\n",
        "\\begin{align*}\n",
        "H_0&: P_X > 75\\% \\\\\n",
        "H_1&: P_X \\le 75\\%\n",
        "\\end{align*}\n",
        "$$"
      ]
    },
    {
      "cell_type": "markdown",
      "metadata": {
        "id": "sCUvQ2GrKm1a"
      },
      "source": [
        "## 2. Pilih Tingkat Signifikansi"
      ]
    },
    {
      "cell_type": "code",
      "execution_count": 21,
      "metadata": {
        "id": "P8DMh6DtKm1b"
      },
      "outputs": [],
      "source": [
        "alpha = 0.05"
      ]
    },
    {
      "cell_type": "markdown",
      "metadata": {
        "id": "rL8dUUPiKm1c"
      },
      "source": [
        "## 3. Pilih statistik yang sesuai\n",
        "- Yang hendak diuji adalah proporsi populasi\n",
        "- 1 Populasi\n",
        "- $\\ge$ 30 data \\\n",
        "Berdasarkan poin diatas maka kami akan menggunakan z-score proportion 1 populasi"
      ]
    },
    {
      "cell_type": "code",
      "execution_count": 22,
      "metadata": {
        "id": "3wqkKf5yKm1c"
      },
      "outputs": [],
      "source": [
        "#Change data\n",
        "popmean = 0.75\n",
        "alt = 'smaller'\n",
        "\n",
        "#For Proportions\n",
        "data['Meminjam'] = data['Meminjam'].replace(['Pernah', 'Tidak Pernah'], [0, 1])\n",
        "count_nonliteracy = (data['Meminjam'] == 1).sum()\n",
        "count_data = len(data)\n",
        "\n",
        "#For ztest\n",
        "data_meminjam = data['Meminjam']\n",
        "lst = data_meminjam.to_list()"
      ]
    },
    {
      "cell_type": "markdown",
      "metadata": {
        "id": "QyqIT8StKm1d"
      },
      "source": [
        "## 4. Perhitungan menggunakan proportions_ztest"
      ]
    },
    {
      "cell_type": "code",
      "execution_count": 23,
      "metadata": {
        "colab": {
          "base_uri": "https://localhost:8080/"
        },
        "id": "5JROrNXKKm1d",
        "outputId": "5f100dba-5c3b-4aa0-b5cd-fccea24fe20d"
      },
      "outputs": [
        {
          "output_type": "stream",
          "name": "stdout",
          "text": [
            "\tstats: -4.907992752352316\n",
            "\tP Value: 0.0000004601\n",
            "\tWith confidence level  95%, it is statistically valid to reject the Null Hypothesis.\n"
          ]
        }
      ],
      "source": [
        "stats, pvalue = proportions_ztest(count_nonliteracy, count_data, popmean, alt)\n",
        "print(f\"\\tstats: {stats}\")\n",
        "print(\"\\tP Value:\", format(pvalue, \".10f\"))\n",
        "\n",
        "if (pvalue > alpha):\n",
        "    print(f\"\\tWith confidence level {(1-alpha)*100:3.0f}%, it failed to reject the Null Hypothesis.\")\n",
        "else:\n",
        "    print(f\"\\tWith confidence level {(1-alpha)*100:3.0f}%, it is statistically valid to reject the Null Hypothesis.\")\n"
      ]
    },
    {
      "cell_type": "markdown",
      "metadata": {
        "id": "tCGnRprJKm1d"
      },
      "source": [
        "## 5. Kesimpulan\n",
        "Dengan tingkat keyakinan 95% maka hipotesa null (tingkat \"ketidakliterasian\" mahasiswa CIT > 75% ) dapat ditolak. Oleh karena itu Hipotesa 1 dapat dipertimbangkan (tingkat \"ketidakliterasian\" mahasiswa CIT $\\le$ 75%)"
      ]
    },
    {
      "cell_type": "markdown",
      "source": [
        "# Masalah 2"
      ],
      "metadata": {
        "id": "4RUHlUl1R8co"
      }
    },
    {
      "cell_type": "markdown",
      "source": [
        "## Function"
      ],
      "metadata": {
        "id": "a3tD-yKTS8rJ"
      }
    },
    {
      "cell_type": "code",
      "source": [
        "# Data ke list\n",
        "def convert_to_list(val):\n",
        "    if pd.isna(val):  # Kalau NaN tetap NaN\n",
        "        return val\n",
        "    else:  # jika bukan ubah jadi int dalam list\n",
        "        return list(map(int, val.split(',')))\n",
        "\n",
        "# Khusus semester ganjil\n",
        "def filter_semester_ganjil(df):\n",
        "    new_df = df.copy()\n",
        "    new_col = []\n",
        "    for row in df['Semester tidak pinjam']:\n",
        "        if isinstance(row, list):\n",
        "            is_odd = any(val % 2 == 1 for val in row if isinstance(val, int))\n",
        "            new_col.append(1 if is_odd else 0)\n",
        "        else:\n",
        "            new_col.append(0)\n",
        "    new_df['Semester Ganjil'] = new_col\n",
        "    return new_df\n",
        "\n",
        "# Khusus semester genap\n",
        "def filter_semester_genap(df):\n",
        "    new_df = df.copy()\n",
        "    new_col = []\n",
        "    for row in df['Semester tidak pinjam']:\n",
        "        if isinstance(row, list):\n",
        "            is_even = any(val % 2 == 0 for val in row if isinstance(val, int))\n",
        "            new_col.append(1 if is_even else 0)\n",
        "        else:\n",
        "            new_col.append(0)\n",
        "    new_df['Semester Genap'] = new_col\n",
        "    return new_df"
      ],
      "metadata": {
        "id": "pJ5hcAz5S8At"
      },
      "execution_count": 24,
      "outputs": []
    },
    {
      "cell_type": "code",
      "source": [
        "df['Semester pinjam'] = df['Semester pinjam'].apply(convert_to_list)\n",
        "df['Semester tidak pinjam'] = df['Semester tidak pinjam'].apply(convert_to_list)\n",
        "\n",
        "df_ganjil = filter_semester_ganjil(df)\n",
        "df_genap = filter_semester_genap(df)"
      ],
      "metadata": {
        "id": "bDeqmbFST5qF"
      },
      "execution_count": 25,
      "outputs": []
    },
    {
      "cell_type": "code",
      "source": [
        "df_ganjil_view = df_ganjil[df_ganjil['Semester Ganjil'] == 1]\n",
        "df_genap_view = df_genap[df_genap['Semester Genap'] == 1]\n",
        "df_genap_view.head()"
      ],
      "metadata": {
        "colab": {
          "base_uri": "https://localhost:8080/",
          "height": 206
        },
        "id": "914C9Zv9T9zb",
        "outputId": "1f22a5b1-53f3-4f8a-b2df-b4fa47f3f55d"
      },
      "execution_count": 26,
      "outputs": [
        {
          "output_type": "execute_result",
          "data": {
            "text/plain": [
              "             Timestamp                         Email  \\\n",
              "0  02/05/2024 12:25:00     stevenjohan.sjj@gmail.com   \n",
              "1  02/05/2024 12:30:45     renatakharis282@gmail.com   \n",
              "2  02/05/2024 12:31:16      geryyulianto07@gmail.com   \n",
              "3  02/05/2024 12:41:30  glim76@students.calvin.ac.id   \n",
              "4  02/05/2024 12:44:15        hizkiank256p@gmail.com   \n",
              "\n",
              "                       Nama     Gender  Angkatan Prodi      Meminjam  \\\n",
              "0              Steven Johan  Laki-laki      2022  IBDA        Pernah   \n",
              "1  Renata Kharis Enggrasari  Perempuan      2022   BMS        Pernah   \n",
              "2                       Ger  Laki-laki      2022  IBDA  Tidak Pernah   \n",
              "3         Grace Calista Lim  Perempuan      2022  IBDA        Pernah   \n",
              "4      Hizkia Justine Hasan  Laki-laki      2022  IBDA        Pernah   \n",
              "\n",
              "  Semester pinjam Semester tidak pinjam  Semester Genap  \n",
              "0       [1, 2, 3]                   [4]               1  \n",
              "1             [1]             [2, 3, 4]               1  \n",
              "2             NaN          [1, 2, 3, 4]               1  \n",
              "3             [1]             [2, 3, 4]               1  \n",
              "4       [1, 2, 3]                   [4]               1  "
            ],
            "text/html": [
              "\n",
              "  <div id=\"df-82ea1e15-2ecd-4f60-ada6-fd37b8a0582b\" class=\"colab-df-container\">\n",
              "    <div>\n",
              "<style scoped>\n",
              "    .dataframe tbody tr th:only-of-type {\n",
              "        vertical-align: middle;\n",
              "    }\n",
              "\n",
              "    .dataframe tbody tr th {\n",
              "        vertical-align: top;\n",
              "    }\n",
              "\n",
              "    .dataframe thead th {\n",
              "        text-align: right;\n",
              "    }\n",
              "</style>\n",
              "<table border=\"1\" class=\"dataframe\">\n",
              "  <thead>\n",
              "    <tr style=\"text-align: right;\">\n",
              "      <th></th>\n",
              "      <th>Timestamp</th>\n",
              "      <th>Email</th>\n",
              "      <th>Nama</th>\n",
              "      <th>Gender</th>\n",
              "      <th>Angkatan</th>\n",
              "      <th>Prodi</th>\n",
              "      <th>Meminjam</th>\n",
              "      <th>Semester pinjam</th>\n",
              "      <th>Semester tidak pinjam</th>\n",
              "      <th>Semester Genap</th>\n",
              "    </tr>\n",
              "  </thead>\n",
              "  <tbody>\n",
              "    <tr>\n",
              "      <th>0</th>\n",
              "      <td>02/05/2024 12:25:00</td>\n",
              "      <td>stevenjohan.sjj@gmail.com</td>\n",
              "      <td>Steven Johan</td>\n",
              "      <td>Laki-laki</td>\n",
              "      <td>2022</td>\n",
              "      <td>IBDA</td>\n",
              "      <td>Pernah</td>\n",
              "      <td>[1, 2, 3]</td>\n",
              "      <td>[4]</td>\n",
              "      <td>1</td>\n",
              "    </tr>\n",
              "    <tr>\n",
              "      <th>1</th>\n",
              "      <td>02/05/2024 12:30:45</td>\n",
              "      <td>renatakharis282@gmail.com</td>\n",
              "      <td>Renata Kharis Enggrasari</td>\n",
              "      <td>Perempuan</td>\n",
              "      <td>2022</td>\n",
              "      <td>BMS</td>\n",
              "      <td>Pernah</td>\n",
              "      <td>[1]</td>\n",
              "      <td>[2, 3, 4]</td>\n",
              "      <td>1</td>\n",
              "    </tr>\n",
              "    <tr>\n",
              "      <th>2</th>\n",
              "      <td>02/05/2024 12:31:16</td>\n",
              "      <td>geryyulianto07@gmail.com</td>\n",
              "      <td>Ger</td>\n",
              "      <td>Laki-laki</td>\n",
              "      <td>2022</td>\n",
              "      <td>IBDA</td>\n",
              "      <td>Tidak Pernah</td>\n",
              "      <td>NaN</td>\n",
              "      <td>[1, 2, 3, 4]</td>\n",
              "      <td>1</td>\n",
              "    </tr>\n",
              "    <tr>\n",
              "      <th>3</th>\n",
              "      <td>02/05/2024 12:41:30</td>\n",
              "      <td>glim76@students.calvin.ac.id</td>\n",
              "      <td>Grace Calista Lim</td>\n",
              "      <td>Perempuan</td>\n",
              "      <td>2022</td>\n",
              "      <td>IBDA</td>\n",
              "      <td>Pernah</td>\n",
              "      <td>[1]</td>\n",
              "      <td>[2, 3, 4]</td>\n",
              "      <td>1</td>\n",
              "    </tr>\n",
              "    <tr>\n",
              "      <th>4</th>\n",
              "      <td>02/05/2024 12:44:15</td>\n",
              "      <td>hizkiank256p@gmail.com</td>\n",
              "      <td>Hizkia Justine Hasan</td>\n",
              "      <td>Laki-laki</td>\n",
              "      <td>2022</td>\n",
              "      <td>IBDA</td>\n",
              "      <td>Pernah</td>\n",
              "      <td>[1, 2, 3]</td>\n",
              "      <td>[4]</td>\n",
              "      <td>1</td>\n",
              "    </tr>\n",
              "  </tbody>\n",
              "</table>\n",
              "</div>\n",
              "    <div class=\"colab-df-buttons\">\n",
              "\n",
              "  <div class=\"colab-df-container\">\n",
              "    <button class=\"colab-df-convert\" onclick=\"convertToInteractive('df-82ea1e15-2ecd-4f60-ada6-fd37b8a0582b')\"\n",
              "            title=\"Convert this dataframe to an interactive table.\"\n",
              "            style=\"display:none;\">\n",
              "\n",
              "  <svg xmlns=\"http://www.w3.org/2000/svg\" height=\"24px\" viewBox=\"0 -960 960 960\">\n",
              "    <path d=\"M120-120v-720h720v720H120Zm60-500h600v-160H180v160Zm220 220h160v-160H400v160Zm0 220h160v-160H400v160ZM180-400h160v-160H180v160Zm440 0h160v-160H620v160ZM180-180h160v-160H180v160Zm440 0h160v-160H620v160Z\"/>\n",
              "  </svg>\n",
              "    </button>\n",
              "\n",
              "  <style>\n",
              "    .colab-df-container {\n",
              "      display:flex;\n",
              "      gap: 12px;\n",
              "    }\n",
              "\n",
              "    .colab-df-convert {\n",
              "      background-color: #E8F0FE;\n",
              "      border: none;\n",
              "      border-radius: 50%;\n",
              "      cursor: pointer;\n",
              "      display: none;\n",
              "      fill: #1967D2;\n",
              "      height: 32px;\n",
              "      padding: 0 0 0 0;\n",
              "      width: 32px;\n",
              "    }\n",
              "\n",
              "    .colab-df-convert:hover {\n",
              "      background-color: #E2EBFA;\n",
              "      box-shadow: 0px 1px 2px rgba(60, 64, 67, 0.3), 0px 1px 3px 1px rgba(60, 64, 67, 0.15);\n",
              "      fill: #174EA6;\n",
              "    }\n",
              "\n",
              "    .colab-df-buttons div {\n",
              "      margin-bottom: 4px;\n",
              "    }\n",
              "\n",
              "    [theme=dark] .colab-df-convert {\n",
              "      background-color: #3B4455;\n",
              "      fill: #D2E3FC;\n",
              "    }\n",
              "\n",
              "    [theme=dark] .colab-df-convert:hover {\n",
              "      background-color: #434B5C;\n",
              "      box-shadow: 0px 1px 3px 1px rgba(0, 0, 0, 0.15);\n",
              "      filter: drop-shadow(0px 1px 2px rgba(0, 0, 0, 0.3));\n",
              "      fill: #FFFFFF;\n",
              "    }\n",
              "  </style>\n",
              "\n",
              "    <script>\n",
              "      const buttonEl =\n",
              "        document.querySelector('#df-82ea1e15-2ecd-4f60-ada6-fd37b8a0582b button.colab-df-convert');\n",
              "      buttonEl.style.display =\n",
              "        google.colab.kernel.accessAllowed ? 'block' : 'none';\n",
              "\n",
              "      async function convertToInteractive(key) {\n",
              "        const element = document.querySelector('#df-82ea1e15-2ecd-4f60-ada6-fd37b8a0582b');\n",
              "        const dataTable =\n",
              "          await google.colab.kernel.invokeFunction('convertToInteractive',\n",
              "                                                    [key], {});\n",
              "        if (!dataTable) return;\n",
              "\n",
              "        const docLinkHtml = 'Like what you see? Visit the ' +\n",
              "          '<a target=\"_blank\" href=https://colab.research.google.com/notebooks/data_table.ipynb>data table notebook</a>'\n",
              "          + ' to learn more about interactive tables.';\n",
              "        element.innerHTML = '';\n",
              "        dataTable['output_type'] = 'display_data';\n",
              "        await google.colab.output.renderOutput(dataTable, element);\n",
              "        const docLink = document.createElement('div');\n",
              "        docLink.innerHTML = docLinkHtml;\n",
              "        element.appendChild(docLink);\n",
              "      }\n",
              "    </script>\n",
              "  </div>\n",
              "\n",
              "\n",
              "<div id=\"df-eb1c4f61-a475-4318-9df9-38f0055f96ff\">\n",
              "  <button class=\"colab-df-quickchart\" onclick=\"quickchart('df-eb1c4f61-a475-4318-9df9-38f0055f96ff')\"\n",
              "            title=\"Suggest charts\"\n",
              "            style=\"display:none;\">\n",
              "\n",
              "<svg xmlns=\"http://www.w3.org/2000/svg\" height=\"24px\"viewBox=\"0 0 24 24\"\n",
              "     width=\"24px\">\n",
              "    <g>\n",
              "        <path d=\"M19 3H5c-1.1 0-2 .9-2 2v14c0 1.1.9 2 2 2h14c1.1 0 2-.9 2-2V5c0-1.1-.9-2-2-2zM9 17H7v-7h2v7zm4 0h-2V7h2v10zm4 0h-2v-4h2v4z\"/>\n",
              "    </g>\n",
              "</svg>\n",
              "  </button>\n",
              "\n",
              "<style>\n",
              "  .colab-df-quickchart {\n",
              "      --bg-color: #E8F0FE;\n",
              "      --fill-color: #1967D2;\n",
              "      --hover-bg-color: #E2EBFA;\n",
              "      --hover-fill-color: #174EA6;\n",
              "      --disabled-fill-color: #AAA;\n",
              "      --disabled-bg-color: #DDD;\n",
              "  }\n",
              "\n",
              "  [theme=dark] .colab-df-quickchart {\n",
              "      --bg-color: #3B4455;\n",
              "      --fill-color: #D2E3FC;\n",
              "      --hover-bg-color: #434B5C;\n",
              "      --hover-fill-color: #FFFFFF;\n",
              "      --disabled-bg-color: #3B4455;\n",
              "      --disabled-fill-color: #666;\n",
              "  }\n",
              "\n",
              "  .colab-df-quickchart {\n",
              "    background-color: var(--bg-color);\n",
              "    border: none;\n",
              "    border-radius: 50%;\n",
              "    cursor: pointer;\n",
              "    display: none;\n",
              "    fill: var(--fill-color);\n",
              "    height: 32px;\n",
              "    padding: 0;\n",
              "    width: 32px;\n",
              "  }\n",
              "\n",
              "  .colab-df-quickchart:hover {\n",
              "    background-color: var(--hover-bg-color);\n",
              "    box-shadow: 0 1px 2px rgba(60, 64, 67, 0.3), 0 1px 3px 1px rgba(60, 64, 67, 0.15);\n",
              "    fill: var(--button-hover-fill-color);\n",
              "  }\n",
              "\n",
              "  .colab-df-quickchart-complete:disabled,\n",
              "  .colab-df-quickchart-complete:disabled:hover {\n",
              "    background-color: var(--disabled-bg-color);\n",
              "    fill: var(--disabled-fill-color);\n",
              "    box-shadow: none;\n",
              "  }\n",
              "\n",
              "  .colab-df-spinner {\n",
              "    border: 2px solid var(--fill-color);\n",
              "    border-color: transparent;\n",
              "    border-bottom-color: var(--fill-color);\n",
              "    animation:\n",
              "      spin 1s steps(1) infinite;\n",
              "  }\n",
              "\n",
              "  @keyframes spin {\n",
              "    0% {\n",
              "      border-color: transparent;\n",
              "      border-bottom-color: var(--fill-color);\n",
              "      border-left-color: var(--fill-color);\n",
              "    }\n",
              "    20% {\n",
              "      border-color: transparent;\n",
              "      border-left-color: var(--fill-color);\n",
              "      border-top-color: var(--fill-color);\n",
              "    }\n",
              "    30% {\n",
              "      border-color: transparent;\n",
              "      border-left-color: var(--fill-color);\n",
              "      border-top-color: var(--fill-color);\n",
              "      border-right-color: var(--fill-color);\n",
              "    }\n",
              "    40% {\n",
              "      border-color: transparent;\n",
              "      border-right-color: var(--fill-color);\n",
              "      border-top-color: var(--fill-color);\n",
              "    }\n",
              "    60% {\n",
              "      border-color: transparent;\n",
              "      border-right-color: var(--fill-color);\n",
              "    }\n",
              "    80% {\n",
              "      border-color: transparent;\n",
              "      border-right-color: var(--fill-color);\n",
              "      border-bottom-color: var(--fill-color);\n",
              "    }\n",
              "    90% {\n",
              "      border-color: transparent;\n",
              "      border-bottom-color: var(--fill-color);\n",
              "    }\n",
              "  }\n",
              "</style>\n",
              "\n",
              "  <script>\n",
              "    async function quickchart(key) {\n",
              "      const quickchartButtonEl =\n",
              "        document.querySelector('#' + key + ' button');\n",
              "      quickchartButtonEl.disabled = true;  // To prevent multiple clicks.\n",
              "      quickchartButtonEl.classList.add('colab-df-spinner');\n",
              "      try {\n",
              "        const charts = await google.colab.kernel.invokeFunction(\n",
              "            'suggestCharts', [key], {});\n",
              "      } catch (error) {\n",
              "        console.error('Error during call to suggestCharts:', error);\n",
              "      }\n",
              "      quickchartButtonEl.classList.remove('colab-df-spinner');\n",
              "      quickchartButtonEl.classList.add('colab-df-quickchart-complete');\n",
              "    }\n",
              "    (() => {\n",
              "      let quickchartButtonEl =\n",
              "        document.querySelector('#df-eb1c4f61-a475-4318-9df9-38f0055f96ff button');\n",
              "      quickchartButtonEl.style.display =\n",
              "        google.colab.kernel.accessAllowed ? 'block' : 'none';\n",
              "    })();\n",
              "  </script>\n",
              "</div>\n",
              "    </div>\n",
              "  </div>\n"
            ],
            "application/vnd.google.colaboratory.intrinsic+json": {
              "type": "dataframe",
              "variable_name": "df_genap_view",
              "summary": "{\n  \"name\": \"df_genap_view\",\n  \"rows\": 48,\n  \"fields\": [\n    {\n      \"column\": \"Timestamp\",\n      \"properties\": {\n        \"dtype\": \"object\",\n        \"num_unique_values\": 48,\n        \"samples\": [\n          \"02/05/2024 15:28:11\",\n          \"02/05/2024 19:35:29\",\n          \"02/05/2024 15:16:33\"\n        ],\n        \"semantic_type\": \"\",\n        \"description\": \"\"\n      }\n    },\n    {\n      \"column\": \"Email\",\n      \"properties\": {\n        \"dtype\": \"string\",\n        \"num_unique_values\": 48,\n        \"samples\": [\n          \"schristian38@students.calvin.ac.id\",\n          \"matthewdanielsurupati@gmail.com\",\n          \"gdohude89@students.calvin.ac.id\"\n        ],\n        \"semantic_type\": \"\",\n        \"description\": \"\"\n      }\n    },\n    {\n      \"column\": \"Nama\",\n      \"properties\": {\n        \"dtype\": \"string\",\n        \"num_unique_values\": 48,\n        \"samples\": [\n          \"Stefannus Christian\",\n          \"Matthew Daniel Surupati\",\n          \"Giving Love Paskah Anjanis Dohude\"\n        ],\n        \"semantic_type\": \"\",\n        \"description\": \"\"\n      }\n    },\n    {\n      \"column\": \"Gender\",\n      \"properties\": {\n        \"dtype\": \"category\",\n        \"num_unique_values\": 2,\n        \"samples\": [\n          \"Perempuan\",\n          \"Laki-laki\"\n        ],\n        \"semantic_type\": \"\",\n        \"description\": \"\"\n      }\n    },\n    {\n      \"column\": \"Angkatan\",\n      \"properties\": {\n        \"dtype\": \"number\",\n        \"std\": 1,\n        \"min\": 2020,\n        \"max\": 2023,\n        \"num_unique_values\": 4,\n        \"samples\": [\n          2021,\n          2023\n        ],\n        \"semantic_type\": \"\",\n        \"description\": \"\"\n      }\n    },\n    {\n      \"column\": \"Prodi\",\n      \"properties\": {\n        \"dtype\": \"category\",\n        \"num_unique_values\": 6,\n        \"samples\": [\n          \"IBDA\",\n          \"BMS\"\n        ],\n        \"semantic_type\": \"\",\n        \"description\": \"\"\n      }\n    },\n    {\n      \"column\": \"Meminjam\",\n      \"properties\": {\n        \"dtype\": \"category\",\n        \"num_unique_values\": 2,\n        \"samples\": [\n          \"Tidak Pernah\",\n          \"Pernah\"\n        ],\n        \"semantic_type\": \"\",\n        \"description\": \"\"\n      }\n    },\n    {\n      \"column\": \"Semester pinjam\",\n      \"properties\": {\n        \"dtype\": \"object\",\n        \"semantic_type\": \"\",\n        \"description\": \"\"\n      }\n    },\n    {\n      \"column\": \"Semester tidak pinjam\",\n      \"properties\": {\n        \"dtype\": \"object\",\n        \"semantic_type\": \"\",\n        \"description\": \"\"\n      }\n    },\n    {\n      \"column\": \"Semester Genap\",\n      \"properties\": {\n        \"dtype\": \"number\",\n        \"std\": 0,\n        \"min\": 1,\n        \"max\": 1,\n        \"num_unique_values\": 1,\n        \"samples\": [\n          1\n        ],\n        \"semantic_type\": \"\",\n        \"description\": \"\"\n      }\n    }\n  ]\n}"
            }
          },
          "metadata": {},
          "execution_count": 26
        }
      ]
    },
    {
      "cell_type": "code",
      "source": [
        "# Tampilkan dalam bar plot\n",
        "\n",
        "count1 = len(df_ganjil_view)\n",
        "count2 = len(df_genap_view)\n",
        "\n",
        "data = {'Data': ['Sem. Ganjil', 'Sem. Genap'], 'Jumlah Baris': [count1, count2]}\n",
        "df_bar = pd.DataFrame(data)\n",
        "\n",
        "# Bar Plot\n",
        "plt.figure(figsize=(8, 6))\n",
        "ax = plt.gca()\n",
        "df_bar.plot(kind='bar', x='Data', y='Jumlah Baris', ax=ax)\n",
        "ax.set_title('Hasil Sampel')\n",
        "ax.set_xlabel('Data')\n",
        "ax.set_ylabel('Jumlah Baris')\n",
        "\n",
        "plt.xticks(rotation=0)\n",
        "\n",
        "plt.show()"
      ],
      "metadata": {
        "colab": {
          "base_uri": "https://localhost:8080/",
          "height": 564
        },
        "id": "_AjJzRUlUEpl",
        "outputId": "66ab85d8-b0a1-4447-cf7b-02fc155a8680"
      },
      "execution_count": 27,
      "outputs": [
        {
          "output_type": "display_data",
          "data": {
            "text/plain": [
              "<Figure size 800x600 with 1 Axes>"
            ],
            "image/png": "[encoded data removed]"
          },
          "metadata": {}
        }
      ]
    },
    {
      "cell_type": "markdown",
      "source": [
        "Berdasarkan bar plot sampel, dapat dikatakan bahwa jumlah mahasiswa yang tidak meminjam lebih kecil di semester ganjil dibandingkan semester genap, tapi apakah hasilnya akan sama untuk populasi?"
      ],
      "metadata": {
        "id": "zGFHt12_W_KM"
      }
    },
    {
      "cell_type": "markdown",
      "source": [
        "## Pilih Tingkat Signifikansi"
      ],
      "metadata": {
        "id": "jue_Rw6gV-SP"
      }
    },
    {
      "cell_type": "code",
      "source": [
        "# Tetapkan nilai alpha\n",
        "# Variabel alpha menyatakan tingkat signifikansi\n",
        "# Artinya 1 - alpha adalah tingkat keyakinan\n",
        "alpha = 0.05"
      ],
      "metadata": {
        "id": "78O1ZIF4V9F6"
      },
      "execution_count": 28,
      "outputs": []
    },
    {
      "cell_type": "markdown",
      "source": [
        "## Hitung P-value dari statistik dengan menggunakan Z-Test"
      ],
      "metadata": {
        "id": "9yqyM7ZcWDSi"
      }
    },
    {
      "cell_type": "code",
      "source": [
        "z_stats, pval = ztest(x1= df_ganjil['Semester Ganjil'], x2= df_genap['Semester Genap'])\n",
        "print(f'stats: {z_stats}')\n",
        "print(f'P value: {pval}')"
      ],
      "metadata": {
        "colab": {
          "base_uri": "https://localhost:8080/"
        },
        "id": "AYKuXtSJWC0w",
        "outputId": "112c5191-7ffb-4c91-aa17-162755743000"
      },
      "execution_count": 29,
      "outputs": [
        {
          "output_type": "stream",
          "name": "stdout",
          "text": [
            "stats: -2.7994625547792706\n",
            "P value: 0.005118775308705162\n"
          ]
        }
      ]
    },
    {
      "cell_type": "markdown",
      "source": [
        "## Formulasikan Hipotesis\n",
        "\n",
        "Hipotesis Awal : \"Secara keseluruhan persentase mahasiswa yang tidak meminjam buku *liberal arts* pada semester ganjil lebih **besar** dibanding semester genap\"\n",
        "\n",
        "Misalkan $X$ menyatakan variabel acak yang mewakili persentase peminjaman di semester ganjil dan $Y$ mewakili persentase peminjaman di semester genap. Untuk menguji apakah pernyataan \"$\\mu_X > \\mu_Y $\" sahih secara statistika, maka tuliskan pernyataan tersebut sebagai **hipotesis tandingan ($H_1$)**, yaitu\n",
        "\n",
        "\n",
        "$$\n",
        "\\begin{align*}\n",
        "H_0&: \\mu_X \\le \\mu_Y\\\\\n",
        "H_1&: \\mu_X > \\mu_Y\n",
        "\\end{align*}\n",
        "$$"
      ],
      "metadata": {
        "id": "XMml8vXZWHjv"
      }
    },
    {
      "cell_type": "code",
      "source": [
        "if pval > alpha:\n",
        "    print(f\"Dengan tingkat kepercayaan {(1-alpha)*100:3.0f}%, terdapat cukup bukti untuk menolak H0.\")\n",
        "    print(\"H1 dapat dipertimbangkan sebagai kesimpulan alternatif\")\n",
        "    print('\"Secara keseluruhan persentase mahasiswa yang tidak meminjam buku Liberal Arts pada semester ganjil lebih BESAR dibanding semester genap\"')\n",
        "else:\n",
        "    print(f\"Dengan tingkat kepercayaan {(1-alpha)*100:3.0f}%, 'tidak' terdapat cukup bukti untuk menolak H0.\")\n",
        "    print(\"Tidak ada kesimpulan yang bisa ditarik\")"
      ],
      "metadata": {
        "colab": {
          "base_uri": "https://localhost:8080/"
        },
        "id": "msd2Ai_xWO_8",
        "outputId": "0a3d6e35-3261-4d00-e2ba-84a97c255718"
      },
      "execution_count": 30,
      "outputs": [
        {
          "output_type": "stream",
          "name": "stdout",
          "text": [
            "Dengan tingkat kepercayaan  95%, 'tidak' terdapat cukup bukti untuk menolak H0.\n",
            "Tidak ada kesimpulan yang bisa ditarik\n"
          ]
        }
      ]
    },
    {
      "cell_type": "markdown",
      "source": [
        "## Hipotesa Alternatif\n",
        "\n",
        "Hipotesis Alternatif : \"Secara keseluruhan persentase mahasiswa yang tidak meminjam buku *liberal arts* pada semester ganjil lebih **kecil** dibanding semester genap\"\n",
        "\n",
        "Misalkan $X$ menyatakan variabel acak yang mewakili persentase peminjaman di semester ganjil dan $Y$ mewakili persentase peminjaman di semester genap. Untuk menguji apakah pernyataan \"$\\mu_X < \\mu_Y $\" sahih secara statistika, maka tuliskan pernyataan tersebut sebagai **hipotesis tandingan ($H_1$)**, yaitu\n",
        "\n",
        "\n",
        "$$\n",
        "\\begin{align*}\n",
        "H_0&: \\mu_X \\ge \\mu_Y\\\\\n",
        "H_1&: \\mu_X < \\mu_Y\n",
        "\\end{align*}\n",
        "$$"
      ],
      "metadata": {
        "id": "8NfBzMiWWQz_"
      }
    },
    {
      "cell_type": "code",
      "source": [
        "# Buat kesimpulan\n",
        "if pval < alpha:\n",
        "    print(f\"Dengan tingkat kepercayaan {(1-alpha)*100:3.0f}%, terdapat cukup bukti untuk menolak H0.\")\n",
        "    print(\"H1 dapat dipertimbangkan sebagai kesimpulan alternatif\")\n",
        "    print('\"Secara keseluruhan persentase mahasiswa yang tidak meminjam buku Liberal Arts pada semester ganjil lebih KECIL dibanding semester genap\"')\n",
        "else:\n",
        "    print(f\"Dengan tingkat kepercayaan {(1-alpha)*100:3.0f}%, 'tidak' terdapat cukup bukti untuk menolak H0.\")\n",
        "    print(\"Tidak ada kesimpulan yang bisa ditarik\")"
      ],
      "metadata": {
        "colab": {
          "base_uri": "https://localhost:8080/"
        },
        "id": "rwV4yNLBWVDL",
        "outputId": "aa972a15-9943-487d-e14c-e8b294f13b16"
      },
      "execution_count": 31,
      "outputs": [
        {
          "output_type": "stream",
          "name": "stdout",
          "text": [
            "Dengan tingkat kepercayaan  95%, terdapat cukup bukti untuk menolak H0.\n",
            "H1 dapat dipertimbangkan sebagai kesimpulan alternatif\n",
            "\"Secara keseluruhan persentase mahasiswa yang tidak meminjam buku Liberal Arts pada semester ganjil lebih KECIL dibanding semester genap\"\n"
          ]
        }
      ]
    },
    {
      "cell_type": "markdown",
      "source": [
        "## Kesimpulan yang dapat ditarik\n",
        "\n",
        "Dengan tingkat keyakinan 95%, uji hipotesis tidak dapat membuktikan perkataan Dr. Knox. Namun, kesimpulan tandingannya dapat dipertimbangkan sebagai kesimpulan sementara, yaitu \"Secara keseluruhan persentase mahasiswa yang tidak meminjam buku Liberal Arts pada semester ganjil lebih **kecil** dibanding semester genap\".\n",
        "\n",
        "Dengan catatan, hasil ini kami dapatkan dari sampel dataset yang kelompok 5 kumpulkan. Hasil tersebut bisa saja berubah jika menggunakan dataset dan teknik <i>sampling</i> yang berbeda"
      ],
      "metadata": {
        "id": "k9_2vomIWXcz"
      }
    },
    {
      "cell_type": "markdown",
      "source": [
        "# Masalah 3"
      ],
      "metadata": {
        "id": "zwK_cpTvSB5Z"
      }
    },
    {
      "cell_type": "markdown",
      "source": [
        "Untuk masalah 3 Kami perlu merubah kolom \"Semester pinjam\" menjadi atomic agar dapat dimanipulasi dengan baik."
      ],
      "metadata": {
        "id": "oimxKlRuwpGb"
      }
    },
    {
      "cell_type": "code",
      "source": [
        "df = pd.DataFrame(pd.read_csv(\"data_masalah_3.csv\"))\n",
        "df = df.dropna()\n",
        "df = df.assign(Semester_pinjam=df['Semester pinjam'].str.split(', ')).explode('Semester_pinjam').reset_index(drop=True).drop(columns=[\"Semester pinjam\"])"
      ],
      "metadata": {
        "id": "cv4axoBawoSP"
      },
      "execution_count": 32,
      "outputs": []
    },
    {
      "cell_type": "markdown",
      "source": [
        "Misalkan X menyatakan variabel acak yang mewakili  jumlah mahasiswa yang meminjam buku RLAC pada tahun berikutnya dan Y adalah jumlah mahasiswa yang meminjam buku RLAC pada tahun pertama."
      ],
      "metadata": {
        "id": "TPJbKCNQMLbH"
      }
    },
    {
      "cell_type": "markdown",
      "source": [
        "Untuk menguji apakah pernyataan \"μx > Y\" sahih secara statistika, maka tuliskan pernyataan tersebut sebagai hipotesis tandingan (H1), yaitu"
      ],
      "metadata": {
        "id": "Nu9JBRlLMZnV"
      }
    },
    {
      "cell_type": "markdown",
      "source": [
        "## Formulasikan Hipotesis\n",
        "$$\n",
        "\\begin{align*}\n",
        "H_0&: \\mu_X > Y\\\\\n",
        "H_1&: \\mu_X \\le Y\n",
        "\\end{align*}\n",
        "$$"
      ],
      "metadata": {
        "id": "hi_kahbFSGNm"
      }
    },
    {
      "cell_type": "code",
      "source": [
        "import scipy.stats as stats\n",
        "df[\"Semester_pinjam\"]\n",
        "df['Semester_pinjam'] = df['Semester_pinjam'].astype(int)\n",
        "\n",
        "df['Group'] = df['Semester_pinjam'].apply(lambda x: 'first_year' if x in [1, 2] else 'after_first_year') #labeling jadi first ato not first\n",
        "borrowing_counts = df['Group'].value_counts()\n",
        "print(borrowing_counts)\n",
        "\n",
        "first_year_data = df[df['Group'] == 'first_year']['Semester_pinjam']\n",
        "after_first_year_data = df[df['Group'] == 'after_first_year']['Semester_pinjam']\n",
        "df.head()\n"
      ],
      "metadata": {
        "id": "pbRA-jLUSKwR",
        "colab": {
          "base_uri": "https://localhost:8080/",
          "height": 275
        },
        "outputId": "06fa55e5-07fb-488d-ca4a-4561109615b3"
      },
      "execution_count": 34,
      "outputs": [
        {
          "output_type": "stream",
          "name": "stdout",
          "text": [
            "Group\n",
            "first_year          29\n",
            "after_first_year    21\n",
            "Name: count, dtype: int64\n"
          ]
        },
        {
          "output_type": "execute_result",
          "data": {
            "text/plain": [
              "             Timestamp                         Email  \\\n",
              "0  02/05/2024 12:25:00     stevenjohan.sjj@gmail.com   \n",
              "1  02/05/2024 12:25:00     stevenjohan.sjj@gmail.com   \n",
              "2  02/05/2024 12:25:00     stevenjohan.sjj@gmail.com   \n",
              "3  02/05/2024 12:30:45     renatakharis282@gmail.com   \n",
              "4  02/05/2024 12:41:30  glim76@students.calvin.ac.id   \n",
              "\n",
              "                       Nama     Gender  Angkatan Prodi Meminjam  \\\n",
              "0              Steven Johan  Laki-laki      2022  IBDA   Pernah   \n",
              "1              Steven Johan  Laki-laki      2022  IBDA   Pernah   \n",
              "2              Steven Johan  Laki-laki      2022  IBDA   Pernah   \n",
              "3  Renata Kharis Enggrasari  Perempuan      2022   BMS   Pernah   \n",
              "4         Grace Calista Lim  Perempuan      2022  IBDA   Pernah   \n",
              "\n",
              "  Semester tidak pinjam  Semester_pinjam             Group  \n",
              "0                     4                1        first_year  \n",
              "1                     4                2        first_year  \n",
              "2                     4                3  after_first_year  \n",
              "3                 2,3,4                1        first_year  \n",
              "4                 2,3,4                1        first_year  "
            ],
            "text/html": [
              "\n",
              "  <div id=\"df-7860dbcf-a6d7-4f25-a4e3-18bcb07169b3\" class=\"colab-df-container\">\n",
              "    <div>\n",
              "<style scoped>\n",
              "    .dataframe tbody tr th:only-of-type {\n",
              "        vertical-align: middle;\n",
              "    }\n",
              "\n",
              "    .dataframe tbody tr th {\n",
              "        vertical-align: top;\n",
              "    }\n",
              "\n",
              "    .dataframe thead th {\n",
              "        text-align: right;\n",
              "    }\n",
              "</style>\n",
              "<table border=\"1\" class=\"dataframe\">\n",
              "  <thead>\n",
              "    <tr style=\"text-align: right;\">\n",
              "      <th></th>\n",
              "      <th>Timestamp</th>\n",
              "      <th>Email</th>\n",
              "      <th>Nama</th>\n",
              "      <th>Gender</th>\n",
              "      <th>Angkatan</th>\n",
              "      <th>Prodi</th>\n",
              "      <th>Meminjam</th>\n",
              "      <th>Semester tidak pinjam</th>\n",
              "      <th>Semester_pinjam</th>\n",
              "      <th>Group</th>\n",
              "    </tr>\n",
              "  </thead>\n",
              "  <tbody>\n",
              "    <tr>\n",
              "      <th>0</th>\n",
              "      <td>02/05/2024 12:25:00</td>\n",
              "      <td>stevenjohan.sjj@gmail.com</td>\n",
              "      <td>Steven Johan</td>\n",
              "      <td>Laki-laki</td>\n",
              "      <td>2022</td>\n",
              "      <td>IBDA</td>\n",
              "      <td>Pernah</td>\n",
              "      <td>4</td>\n",
              "      <td>1</td>\n",
              "      <td>first_year</td>\n",
              "    </tr>\n",
              "    <tr>\n",
              "      <th>1</th>\n",
              "      <td>02/05/2024 12:25:00</td>\n",
              "      <td>stevenjohan.sjj@gmail.com</td>\n",
              "      <td>Steven Johan</td>\n",
              "      <td>Laki-laki</td>\n",
              "      <td>2022</td>\n",
              "      <td>IBDA</td>\n",
              "      <td>Pernah</td>\n",
              "      <td>4</td>\n",
              "      <td>2</td>\n",
              "      <td>first_year</td>\n",
              "    </tr>\n",
              "    <tr>\n",
              "      <th>2</th>\n",
              "      <td>02/05/2024 12:25:00</td>\n",
              "      <td>stevenjohan.sjj@gmail.com</td>\n",
              "      <td>Steven Johan</td>\n",
              "      <td>Laki-laki</td>\n",
              "      <td>2022</td>\n",
              "      <td>IBDA</td>\n",
              "      <td>Pernah</td>\n",
              "      <td>4</td>\n",
              "      <td>3</td>\n",
              "      <td>after_first_year</td>\n",
              "    </tr>\n",
              "    <tr>\n",
              "      <th>3</th>\n",
              "      <td>02/05/2024 12:30:45</td>\n",
              "      <td>renatakharis282@gmail.com</td>\n",
              "      <td>Renata Kharis Enggrasari</td>\n",
              "      <td>Perempuan</td>\n",
              "      <td>2022</td>\n",
              "      <td>BMS</td>\n",
              "      <td>Pernah</td>\n",
              "      <td>2,3,4</td>\n",
              "      <td>1</td>\n",
              "      <td>first_year</td>\n",
              "    </tr>\n",
              "    <tr>\n",
              "      <th>4</th>\n",
              "      <td>02/05/2024 12:41:30</td>\n",
              "      <td>glim76@students.calvin.ac.id</td>\n",
              "      <td>Grace Calista Lim</td>\n",
              "      <td>Perempuan</td>\n",
              "      <td>2022</td>\n",
              "      <td>IBDA</td>\n",
              "      <td>Pernah</td>\n",
              "      <td>2,3,4</td>\n",
              "      <td>1</td>\n",
              "      <td>first_year</td>\n",
              "    </tr>\n",
              "  </tbody>\n",
              "</table>\n",
              "</div>\n",
              "    <div class=\"colab-df-buttons\">\n",
              "\n",
              "  <div class=\"colab-df-container\">\n",
              "    <button class=\"colab-df-convert\" onclick=\"convertToInteractive('df-7860dbcf-a6d7-4f25-a4e3-18bcb07169b3')\"\n",
              "            title=\"Convert this dataframe to an interactive table.\"\n",
              "            style=\"display:none;\">\n",
              "\n",
              "  <svg xmlns=\"http://www.w3.org/2000/svg\" height=\"24px\" viewBox=\"0 -960 960 960\">\n",
              "    <path d=\"M120-120v-720h720v720H120Zm60-500h600v-160H180v160Zm220 220h160v-160H400v160Zm0 220h160v-160H400v160ZM180-400h160v-160H180v160Zm440 0h160v-160H620v160ZM180-180h160v-160H180v160Zm440 0h160v-160H620v160Z\"/>\n",
              "  </svg>\n",
              "    </button>\n",
              "\n",
              "  <style>\n",
              "    .colab-df-container {\n",
              "      display:flex;\n",
              "      gap: 12px;\n",
              "    }\n",
              "\n",
              "    .colab-df-convert {\n",
              "      background-color: #E8F0FE;\n",
              "      border: none;\n",
              "      border-radius: 50%;\n",
              "      cursor: pointer;\n",
              "      display: none;\n",
              "      fill: #1967D2;\n",
              "      height: 32px;\n",
              "      padding: 0 0 0 0;\n",
              "      width: 32px;\n",
              "    }\n",
              "\n",
              "    .colab-df-convert:hover {\n",
              "      background-color: #E2EBFA;\n",
              "      box-shadow: 0px 1px 2px rgba(60, 64, 67, 0.3), 0px 1px 3px 1px rgba(60, 64, 67, 0.15);\n",
              "      fill: #174EA6;\n",
              "    }\n",
              "\n",
              "    .colab-df-buttons div {\n",
              "      margin-bottom: 4px;\n",
              "    }\n",
              "\n",
              "    [theme=dark] .colab-df-convert {\n",
              "      background-color: #3B4455;\n",
              "      fill: #D2E3FC;\n",
              "    }\n",
              "\n",
              "    [theme=dark] .colab-df-convert:hover {\n",
              "      background-color: #434B5C;\n",
              "      box-shadow: 0px 1px 3px 1px rgba(0, 0, 0, 0.15);\n",
              "      filter: drop-shadow(0px 1px 2px rgba(0, 0, 0, 0.3));\n",
              "      fill: #FFFFFF;\n",
              "    }\n",
              "  </style>\n",
              "\n",
              "    <script>\n",
              "      const buttonEl =\n",
              "        document.querySelector('#df-7860dbcf-a6d7-4f25-a4e3-18bcb07169b3 button.colab-df-convert');\n",
              "      buttonEl.style.display =\n",
              "        google.colab.kernel.accessAllowed ? 'block' : 'none';\n",
              "\n",
              "      async function convertToInteractive(key) {\n",
              "        const element = document.querySelector('#df-7860dbcf-a6d7-4f25-a4e3-18bcb07169b3');\n",
              "        const dataTable =\n",
              "          await google.colab.kernel.invokeFunction('convertToInteractive',\n",
              "                                                    [key], {});\n",
              "        if (!dataTable) return;\n",
              "\n",
              "        const docLinkHtml = 'Like what you see? Visit the ' +\n",
              "          '<a target=\"_blank\" href=https://colab.research.google.com/notebooks/data_table.ipynb>data table notebook</a>'\n",
              "          + ' to learn more about interactive tables.';\n",
              "        element.innerHTML = '';\n",
              "        dataTable['output_type'] = 'display_data';\n",
              "        await google.colab.output.renderOutput(dataTable, element);\n",
              "        const docLink = document.createElement('div');\n",
              "        docLink.innerHTML = docLinkHtml;\n",
              "        element.appendChild(docLink);\n",
              "      }\n",
              "    </script>\n",
              "  </div>\n",
              "\n",
              "\n",
              "<div id=\"df-65d29858-72d9-4116-9b08-e5615d02cfe7\">\n",
              "  <button class=\"colab-df-quickchart\" onclick=\"quickchart('df-65d29858-72d9-4116-9b08-e5615d02cfe7')\"\n",
              "            title=\"Suggest charts\"\n",
              "            style=\"display:none;\">\n",
              "\n",
              "<svg xmlns=\"http://www.w3.org/2000/svg\" height=\"24px\"viewBox=\"0 0 24 24\"\n",
              "     width=\"24px\">\n",
              "    <g>\n",
              "        <path d=\"M19 3H5c-1.1 0-2 .9-2 2v14c0 1.1.9 2 2 2h14c1.1 0 2-.9 2-2V5c0-1.1-.9-2-2-2zM9 17H7v-7h2v7zm4 0h-2V7h2v10zm4 0h-2v-4h2v4z\"/>\n",
              "    </g>\n",
              "</svg>\n",
              "  </button>\n",
              "\n",
              "<style>\n",
              "  .colab-df-quickchart {\n",
              "      --bg-color: #E8F0FE;\n",
              "      --fill-color: #1967D2;\n",
              "      --hover-bg-color: #E2EBFA;\n",
              "      --hover-fill-color: #174EA6;\n",
              "      --disabled-fill-color: #AAA;\n",
              "      --disabled-bg-color: #DDD;\n",
              "  }\n",
              "\n",
              "  [theme=dark] .colab-df-quickchart {\n",
              "      --bg-color: #3B4455;\n",
              "      --fill-color: #D2E3FC;\n",
              "      --hover-bg-color: #434B5C;\n",
              "      --hover-fill-color: #FFFFFF;\n",
              "      --disabled-bg-color: #3B4455;\n",
              "      --disabled-fill-color: #666;\n",
              "  }\n",
              "\n",
              "  .colab-df-quickchart {\n",
              "    background-color: var(--bg-color);\n",
              "    border: none;\n",
              "    border-radius: 50%;\n",
              "    cursor: pointer;\n",
              "    display: none;\n",
              "    fill: var(--fill-color);\n",
              "    height: 32px;\n",
              "    padding: 0;\n",
              "    width: 32px;\n",
              "  }\n",
              "\n",
              "  .colab-df-quickchart:hover {\n",
              "    background-color: var(--hover-bg-color);\n",
              "    box-shadow: 0 1px 2px rgba(60, 64, 67, 0.3), 0 1px 3px 1px rgba(60, 64, 67, 0.15);\n",
              "    fill: var(--button-hover-fill-color);\n",
              "  }\n",
              "\n",
              "  .colab-df-quickchart-complete:disabled,\n",
              "  .colab-df-quickchart-complete:disabled:hover {\n",
              "    background-color: var(--disabled-bg-color);\n",
              "    fill: var(--disabled-fill-color);\n",
              "    box-shadow: none;\n",
              "  }\n",
              "\n",
              "  .colab-df-spinner {\n",
              "    border: 2px solid var(--fill-color);\n",
              "    border-color: transparent;\n",
              "    border-bottom-color: var(--fill-color);\n",
              "    animation:\n",
              "      spin 1s steps(1) infinite;\n",
              "  }\n",
              "\n",
              "  @keyframes spin {\n",
              "    0% {\n",
              "      border-color: transparent;\n",
              "      border-bottom-color: var(--fill-color);\n",
              "      border-left-color: var(--fill-color);\n",
              "    }\n",
              "    20% {\n",
              "      border-color: transparent;\n",
              "      border-left-color: var(--fill-color);\n",
              "      border-top-color: var(--fill-color);\n",
              "    }\n",
              "    30% {\n",
              "      border-color: transparent;\n",
              "      border-left-color: var(--fill-color);\n",
              "      border-top-color: var(--fill-color);\n",
              "      border-right-color: var(--fill-color);\n",
              "    }\n",
              "    40% {\n",
              "      border-color: transparent;\n",
              "      border-right-color: var(--fill-color);\n",
              "      border-top-color: var(--fill-color);\n",
              "    }\n",
              "    60% {\n",
              "      border-color: transparent;\n",
              "      border-right-color: var(--fill-color);\n",
              "    }\n",
              "    80% {\n",
              "      border-color: transparent;\n",
              "      border-right-color: var(--fill-color);\n",
              "      border-bottom-color: var(--fill-color);\n",
              "    }\n",
              "    90% {\n",
              "      border-color: transparent;\n",
              "      border-bottom-color: var(--fill-color);\n",
              "    }\n",
              "  }\n",
              "</style>\n",
              "\n",
              "  <script>\n",
              "    async function quickchart(key) {\n",
              "      const quickchartButtonEl =\n",
              "        document.querySelector('#' + key + ' button');\n",
              "      quickchartButtonEl.disabled = true;  // To prevent multiple clicks.\n",
              "      quickchartButtonEl.classList.add('colab-df-spinner');\n",
              "      try {\n",
              "        const charts = await google.colab.kernel.invokeFunction(\n",
              "            'suggestCharts', [key], {});\n",
              "      } catch (error) {\n",
              "        console.error('Error during call to suggestCharts:', error);\n",
              "      }\n",
              "      quickchartButtonEl.classList.remove('colab-df-spinner');\n",
              "      quickchartButtonEl.classList.add('colab-df-quickchart-complete');\n",
              "    }\n",
              "    (() => {\n",
              "      let quickchartButtonEl =\n",
              "        document.querySelector('#df-65d29858-72d9-4116-9b08-e5615d02cfe7 button');\n",
              "      quickchartButtonEl.style.display =\n",
              "        google.colab.kernel.accessAllowed ? 'block' : 'none';\n",
              "    })();\n",
              "  </script>\n",
              "</div>\n",
              "    </div>\n",
              "  </div>\n"
            ],
            "application/vnd.google.colaboratory.intrinsic+json": {
              "type": "dataframe",
              "variable_name": "df",
              "summary": "{\n  \"name\": \"df\",\n  \"rows\": 50,\n  \"fields\": [\n    {\n      \"column\": \"Timestamp\",\n      \"properties\": {\n        \"dtype\": \"object\",\n        \"num_unique_values\": 28,\n        \"samples\": [\n          \"02/05/2024 13:23:08\",\n          \"02/05/2024 20:31:48\",\n          \"02/05/2024 13:17:35\"\n        ],\n        \"semantic_type\": \"\",\n        \"description\": \"\"\n      }\n    },\n    {\n      \"column\": \"Email\",\n      \"properties\": {\n        \"dtype\": \"string\",\n        \"num_unique_values\": 28,\n        \"samples\": [\n          \"owenyosephus@gmail.com\",\n          \"rtombi62@students.calvin.ac.id\",\n          \"cadryana25@students.calvin.ac.id\"\n        ],\n        \"semantic_type\": \"\",\n        \"description\": \"\"\n      }\n    },\n    {\n      \"column\": \"Nama\",\n      \"properties\": {\n        \"dtype\": \"string\",\n        \"num_unique_values\": 28,\n        \"samples\": [\n          \"Owen Theodore Yosephus \",\n          \"Renal LM Tombi\",\n          \"Cleve Giosia Adryana\"\n        ],\n        \"semantic_type\": \"\",\n        \"description\": \"\"\n      }\n    },\n    {\n      \"column\": \"Gender\",\n      \"properties\": {\n        \"dtype\": \"category\",\n        \"num_unique_values\": 2,\n        \"samples\": [\n          \"Perempuan\",\n          \"Laki-laki\"\n        ],\n        \"semantic_type\": \"\",\n        \"description\": \"\"\n      }\n    },\n    {\n      \"column\": \"Angkatan\",\n      \"properties\": {\n        \"dtype\": \"number\",\n        \"std\": 0,\n        \"min\": 2020,\n        \"max\": 2023,\n        \"num_unique_values\": 4,\n        \"samples\": [\n          2021,\n          2023\n        ],\n        \"semantic_type\": \"\",\n        \"description\": \"\"\n      }\n    },\n    {\n      \"column\": \"Prodi\",\n      \"properties\": {\n        \"dtype\": \"category\",\n        \"num_unique_values\": 4,\n        \"samples\": [\n          \"BMS\",\n          \"CFP\"\n        ],\n        \"semantic_type\": \"\",\n        \"description\": \"\"\n      }\n    },\n    {\n      \"column\": \"Meminjam\",\n      \"properties\": {\n        \"dtype\": \"category\",\n        \"num_unique_values\": 1,\n        \"samples\": [\n          \"Pernah\"\n        ],\n        \"semantic_type\": \"\",\n        \"description\": \"\"\n      }\n    },\n    {\n      \"column\": \"Semester tidak pinjam\",\n      \"properties\": {\n        \"dtype\": \"category\",\n        \"num_unique_values\": 14,\n        \"samples\": [\n          \"2\"\n        ],\n        \"semantic_type\": \"\",\n        \"description\": \"\"\n      }\n    },\n    {\n      \"column\": \"Semester_pinjam\",\n      \"properties\": {\n        \"dtype\": \"number\",\n        \"std\": 1,\n        \"min\": 1,\n        \"max\": 6,\n        \"num_unique_values\": 6,\n        \"samples\": [\n          1\n        ],\n        \"semantic_type\": \"\",\n        \"description\": \"\"\n      }\n    },\n    {\n      \"column\": \"Group\",\n      \"properties\": {\n        \"dtype\": \"category\",\n        \"num_unique_values\": 2,\n        \"samples\": [\n          \"after_first_year\"\n        ],\n        \"semantic_type\": \"\",\n        \"description\": \"\"\n      }\n    }\n  ]\n}"
            }
          },
          "metadata": {},
          "execution_count": 34
        }
      ]
    },
    {
      "cell_type": "markdown",
      "source": [
        "Setelah table menjadi atomic, kami melabel seluruh data mahasiswa kedalam First year dan After first year agar dapat dihitung perbedaannya. Kami mnghitung Nilai P value dengan  `stats.ttest_ind` karena terdapat 2 populasi dengan salah satunya memiliki sampel dibawah 30."
      ],
      "metadata": {
        "id": "VrBMM3EeK4g9"
      }
    },
    {
      "cell_type": "code",
      "source": [
        "stat,p_value = stats.ttest_ind(first_year_data,after_first_year_data,alternative=\"less\")\n",
        "\n",
        "print(f\"Statistics: {stat}, P-value: {p_value}\")\n",
        "\n",
        "alpha = 0.05\n",
        "\n",
        "print(\"Hypothesis Testing Result:\")\n",
        "print(\"-----------------------------\")\n",
        "if (p_value > alpha):\n",
        "    print(f\"\\tWith confidence level {(1-alpha)*100:3.0f}%, tidak menolak H0.\")\n",
        "else:\n",
        "    print(f\"\\tWith confidence level {(1-alpha)*100:3.0f}%, menolak H0.\")\n",
        "    print(\"MENOLAK h0\")\n"
      ],
      "metadata": {
        "colab": {
          "base_uri": "https://localhost:8080/"
        },
        "id": "S6EEcgbJLReq",
        "outputId": "607ca77f-0884-43e1-9616-c4124e7f8ced"
      },
      "execution_count": 35,
      "outputs": [
        {
          "output_type": "stream",
          "name": "stdout",
          "text": [
            "Statistics: -10.602998013721443, P-value: 1.7986678218406917e-14\n",
            "Hypothesis Testing Result:\n",
            "-----------------------------\n",
            "\tWith confidence level  95%, menolak H0.\n",
            "MENOLAK h0\n"
          ]
        }
      ]
    },
    {
      "cell_type": "markdown",
      "source": [
        "Dengan P value lebih kecil dari Alpha, maka kami menolak h0 yang berarti, **tidak ada** peningkatan peminjam setelah tahun ajaran pertama dilalui"
      ],
      "metadata": {
        "id": "ZvviNbT7MExJ"
      }
    }
  ],
  "metadata": {
    "kernelspec": {
      "display_name": "Python 3",
      "language": "python",
      "name": "python3"
    },
    "language_info": {
      "codemirror_mode": {
        "name": "ipython",
        "version": 3
      },
      "file_extension": ".py",
      "mimetype": "text/x-python",
      "name": "python",
      "nbconvert_exporter": "python",
      "pygments_lexer": "ipython3",
      "version": "3.12.0"
    },
    "colab": {
      "provenance": [],
      "collapsed_sections": [
        "DKsL-pfuPVQe",
        "4RUHlUl1R8co"
      ]
    }
  },
  "nbformat": 4,
  "nbformat_minor": 0
}